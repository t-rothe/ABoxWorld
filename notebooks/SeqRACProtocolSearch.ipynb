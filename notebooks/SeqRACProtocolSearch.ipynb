{
 "cells": [
  {
   "cell_type": "code",
   "execution_count": 1,
   "metadata": {},
   "outputs": [
    {
     "name": "stderr",
     "output_type": "stream",
     "text": [
      "┌ Info: ABoxWorld project environment is loaded and active\n",
      "└ @ Main s:\\Sync\\University\\2023_MRP_2\\MRP2_WorkDir\\ABoxWorld\\src\\ABoxWorld.jl:10\n"
     ]
    }
   ],
   "source": [
    "#using Revise\n",
    "using DrWatson\n",
    "@quickactivate \"ABoxWorld\"\n",
    "include(srcdir(\"ABoxWorld.jl\"));"
   ]
  },
  {
   "cell_type": "code",
   "execution_count": 2,
   "metadata": {},
   "outputs": [],
   "source": [
    "\n",
    "using LinearAlgebra\n"
   ]
  },
  {
   "cell_type": "code",
   "execution_count": 3,
   "metadata": {},
   "outputs": [],
   "source": [
    "\n",
    "global_eps_tol = 1e-10\n",
    "\n",
    "dynamic_slice(A, dims) = A[ntuple(d -> (d in dims) ? (1:1) : (:), ndims(A))...] #Slices the first elements from A in any dimension in dims and returns other dimensions in full\n",
    "\n",
    "mutable struct TimeOrderedNSBox\n",
    "    bell_scenario::NTuple{4, <:Int} #(M_A, M_B, m_A, m_B)\n",
    "    seq_scenario::NTuple{2, <:Int} #(s,t)\n",
    "    condit_joint_dist::Array{Float64}\n",
    "\n",
    "    function TimeOrderedNSBox(;bell_scenario::NTuple{4, <:Int}, seq_scenario::NTuple{2, <:Int}, condit_joint_dist::Array{<:Real})\n",
    "        \"\"\" Constructor with AoT and NS constraints check\"\"\"\n",
    "        @assert all(length(size(condit_joint_dist)) == 2*seq_scenario[1] + 2*seq_scenario[2]) \n",
    "        @assert all(size(condit_joint_dist) == (Tuple(bell_scenario[3] for _ in 1:seq_scenario[1])..., Tuple(bell_scenario[4] for _ in 1:seq_scenario[2])..., Tuple(bell_scenario[1] for _ in 1:seq_scenario[1])...,  Tuple(bell_scenario[2] for _ in 1:seq_scenario[2])...)) \"Scenario does not match dimensions of full joint distribution\"\n",
    "        @show sum(condit_joint_dist, dims=Tuple(1:seq_scenario[1]+seq_scenario[2]))\n",
    "        @assert all(abs.(sum(condit_joint_dist, dims=Tuple(1:seq_scenario[1]+seq_scenario[2])) .- 1.0) .< global_eps_tol) #Normalization constraint on P(a,b|x,y) for all (x,y) pairs\n",
    "\n",
    "        #P[a1, a2, ..., a_s, b1, b2, ..., b_t, x1, x2, ..., xs, y1, y2, ..., yt]\n",
    "        first_A_output_dim, first_A_input_dim = 1, (seq_scenario[1]+seq_scenario[2])+1\n",
    "        first_B_output_dim, first_B_input_dim = seq_scenario[1]+1,(seq_scenario[1]+seq_scenario[2])+seq_scenario[1]+1\n",
    "\n",
    "        all_A_marginals = sum(condit_joint_dist, dims=Tuple(first_B_output_dim:first_B_output_dim-1+seq_scenario[2])) #dims stay alive!\n",
    "        all_B_marginals = sum(condit_joint_dist, dims=Tuple(first_A_output_dim:first_A_output_dim-1+seq_scenario[1]))\n",
    "        \n",
    "        #Check No-signaling B->A\n",
    "        @assert all(abs.(all_A_marginals .- dynamic_slice(all_A_marginals, collect(first_B_input_dim:first_B_input_dim-1+seq_scenario[2]))) .< global_eps_tol) #Check that all A marginals are the same for all y input-dimensions.\n",
    "        \n",
    "        #Check Arrow-of-Time A\n",
    "        for z in 1:seq_scenario[1]\n",
    "            #Marginalize away all z+1 to s output-dimensions a\n",
    "            present_and_past_A_marginals = sum(condit_joint_dist, dims=Tuple(z+1:seq_scenario[1]))\n",
    "            \n",
    "            #Check independence of all z+1 to s output-dimensions x\n",
    "            @assert all(abs.(present_and_past_A_marginals .- dynamic_slice(present_and_past_A_marginals, collect(first_A_input_dim+(z+1):first_A_input_dim-1+seq_scenario[1]))) .< global_eps_tol)\n",
    "        end\n",
    "\n",
    "        #Check No-signaling A->B\n",
    "        @assert all(abs.(all_B_marginals .- dynamic_slice(all_B_marginals, collect(first_A_input_dim:first_A_input_dim-1+seq_scenario[1]))) .< global_eps_tol) #Check that all B marginals are the same for all x input-dimensions.\n",
    "        \n",
    "        #Check Arrow-of-Time B\n",
    "        for z in 1:seq_scenario[2]\n",
    "            #Marginalize away all z+1 to s output-dimensions a\n",
    "            present_and_past_B_marginals = sum(condit_joint_dist, dims=Tuple(first_B_output_dim+(z+1):first_B_output_dim-1+seq_scenario[2]))\n",
    "          \n",
    "            #Check independence of all z+1 to s output-dimensions x\n",
    "            @assert all(abs.(present_and_past_B_marginals .- dynamic_slice(present_and_past_B_marginals, collect(first_B_input_dim+(z+1):first_B_input_dim-1+seq_scenario[2]))) .< global_eps_tol) \n",
    "        end\n",
    "\n",
    "\n",
    "        new(bell_scenario, seq_scenario, condit_joint_dist)\n",
    "    end\n",
    "end\n",
    "\n",
    "Base.:*(x::Real, y::TimeOrderedNSBox) = y=>x\n",
    "Base.:*(x::TimeOrderedNSBox, y::Real) = x=>y\n",
    "\n",
    "function Base.:+(x::Pair{TimeOrderedNSBox, <:Real}, y::Pair{TimeOrderedNSBox, <:Real})\n",
    "    \"\"\"Mixing of two TimeOrderedNSBoxes with asscoiated probabilities\n",
    "    \"\"\"\n",
    "    (tonsbox_1, coeff_1) = x\n",
    "    (tonsbox_2, coeff_2) = y\n",
    "\n",
    "    #Check that both NSBoxes have the same scenario:\n",
    "    @assert tonsbox_1.bell_scenario == tonsbox_2.bell_scenario \"NSBoxes can only be mixed if they are in the same scenario\"\n",
    "    @assert abs(coeff_1 + coeff_2 - 1.0) < global_eps_tol\n",
    "\n",
    "    mixed_joint_dist = coeff_1 * tonsbox_1.condit_joint_dist + coeff_2 * tonsbox_2.condit_joint_dist\n",
    "    return TimeOrderedNSBox(bell_scenario=tonsbox_1.bell_scenario, seq_scenario=tonsbox_1.seq_scenario, condit_joint_dist=mixed_joint_dist)\n",
    "end"
   ]
  },
  {
   "cell_type": "code",
   "execution_count": 24,
   "metadata": {},
   "outputs": [
    {
     "data": {
      "text/plain": [
       "extremal_B_tonsbox_chsh (generic function with 1 method)"
      ]
     },
     "metadata": {},
     "output_type": "display_data"
    }
   ],
   "source": [
    "\n",
    "function extremal_B_tonsbox_chsh(input_nsboxes::Pair{Symbol, <:Tuple}...)\n",
    "    #nsboxes = expect all to be either :LD=>(α,γ,β,λ) box or :PR=>(μ,ν,σ) (only one :PR is allowed) -> User is trusted on this.\n",
    "    #If all nsboxes are LD, then only the first nsbox is used to determine the behavior of the opposite party to \"side\".\n",
    "    #Although LD nsboxes are bipartite correlations, the correlations of party != \"side\" will be ignored. (i.e. by default B's LD correlations are ignored)\n",
    "    \n",
    "    bell_scenario= (2,2,2,2)\n",
    "    seq_scenario = (1, length(input_nsboxes))\n",
    "    includes_pr = count([nb.first for nb in input_nsboxes] .== :PR)\n",
    "    @assert includes_pr <= 1 \"At most one PR box is allowed in TO NSBoxes\"\n",
    "    \n",
    "    extremal_box = ones(Tuple(2 for _ in 1:(2*(seq_scenario[1]+seq_scenario[2])))...) #Might replace by a different init value.\n",
    "    \n",
    "    first_input_dim = (seq_scenario[1] + seq_scenario[2] + 1)\n",
    "\n",
    "    for (i_b, box) in enumerate(input_nsboxes)\n",
    "        if box.first == :PR\n",
    "            @assert length(box.second) == 3 \"PR box must have 3 parameters (μ,ν,σ)\"\n",
    "            box_full_joint = nsboxes.reconstructFullJoint(PRBoxesCHSH(;Dict(zip((:μ,:ν,:σ), box.second))...))\n",
    "            reshape_size = Tuple(dim in (1, first_input_dim, 1+i_b, first_input_dim+i_b) ? size(extremal_box, dim) : 1 for dim in 1:ndims(extremal_box))\n",
    "            extremal_box .*= reshape(box_full_joint, reshape_size)\n",
    "        elseif box.first == :LD\n",
    "            @assert length(box.second) == 4 \"LD box must have 4 parameters (α,γ,β,λ)\"\n",
    "            box_full_joint = nsboxes.reconstructFullJoint(LocalDeterministicBoxesCHSH(;Dict(zip((:α,:γ,:β,:λ), box.second))...))\n",
    "            \n",
    "            if includes_pr == 0 && i_b == 1\n",
    "                #Use the full nsbox\n",
    "                reshape_size = Tuple(dim in (1, first_input_dim, 1+i_b, first_input_dim+i_b) ? size(extremal_box, dim) : 1 for dim in 1:ndims(extremal_box))\n",
    "                extremal_box .*= reshape(box_full_joint, reshape_size)\n",
    "            else\n",
    "                #Only use the \"side\" part of the nsbox\n",
    "                reshape_size = Tuple(dim in (1+i_b, first_input_dim+i_b) ? size(extremal_box, dim) : 1 for dim in 1:ndims(extremal_box))\n",
    "                println(reshape_size)\n",
    "                extremal_box .*= reshape(sum(box_full_joint, dims=1)[1,:,1,:], reshape_size) #A's and B's dimensions shouldn't depend on each other for LD boxes.\n",
    "            end\n",
    "\n",
    "        else\n",
    "            error(\"Unknown box type $(box.first)\")\n",
    "        end\n",
    "    end\n",
    "    \n",
    "    #TODO: Might need re-normalization after artificially sticking correlations together. But then normalization check to-box creation should indicate this need!\n",
    "    \n",
    "    return TimeOrderedNSBox(bell_scenario=bell_scenario, seq_scenario=seq_scenario, condit_joint_dist=extremal_box)\n",
    "end"
   ]
  },
  {
   "cell_type": "code",
   "execution_count": 25,
   "metadata": {},
   "outputs": [
    {
     "name": "stdout",
     "output_type": "stream",
     "text": [
      "(1, 1, 2, 1, 1, 2)\n",
      "sum(condit_joint_dist, dims = Tuple(1:seq_scenario[1] + seq_scenario[2])) = [1.0;;;; 1.0;;;;; 1.0;;;; 1.0;;;;;; 1.0;;;; 1.0;;;;; 1.0;;;; 1.0]\n"
     ]
    },
    {
     "data": {
      "text/plain": [
       "2×2×2×2×2×2 Array{Float64, 6}:\n",
       "[:, :, 1, 1, 1, 1] =\n",
       " 0.5  0.0\n",
       " 0.0  0.5\n",
       "\n",
       "[:, :, 2, 1, 1, 1] =\n",
       " 0.0  0.0\n",
       " 0.0  0.0\n",
       "\n",
       "[:, :, 1, 2, 1, 1] =\n",
       " 0.5  0.0\n",
       " 0.0  0.5\n",
       "\n",
       "[:, :, 2, 2, 1, 1] =\n",
       " 0.0  0.0\n",
       " 0.0  0.0\n",
       "\n",
       "[:, :, 1, 1, 2, 1] =\n",
       " 0.5  0.0\n",
       " 0.0  0.5\n",
       "\n",
       "[:, :, 2, 1, 2, 1] =\n",
       " 0.0  0.0\n",
       " 0.0  0.0\n",
       "\n",
       "[:, :, 1, 2, 2, 1] =\n",
       " 0.0  0.5\n",
       " 0.5  0.0\n",
       "\n",
       "[:, :, 2, 2, 2, 1] =\n",
       " 0.0  0.0\n",
       " 0.0  0.0\n",
       "\n",
       "[:, :, 1, 1, 1, 2] =\n",
       " 0.5  0.0\n",
       " 0.0  0.5\n",
       "\n",
       "[:, :, 2, 1, 1, 2] =\n",
       " 0.0  0.0\n",
       " 0.0  0.0\n",
       "\n",
       "[:, :, 1, 2, 1, 2] =\n",
       " 0.5  0.0\n",
       " 0.0  0.5\n",
       "\n",
       "[:, :, 2, 2, 1, 2] =\n",
       " 0.0  0.0\n",
       " 0.0  0.0\n",
       "\n",
       "[:, :, 1, 1, 2, 2] =\n",
       " 0.5  0.0\n",
       " 0.0  0.5\n",
       "\n",
       "[:, :, 2, 1, 2, 2] =\n",
       " 0.0  0.0\n",
       " 0.0  0.0\n",
       "\n",
       "[:, :, 1, 2, 2, 2] =\n",
       " 0.0  0.5\n",
       " 0.5  0.0\n",
       "\n",
       "[:, :, 2, 2, 2, 2] =\n",
       " 0.0  0.0\n",
       " 0.0  0.0"
      ]
     },
     "metadata": {},
     "output_type": "display_data"
    }
   ],
   "source": [
    "v1 = extremal_B_tonsbox_chsh( :PR=>(0,0,0),:LD=>(0,0,0,0)).condit_joint_dist"
   ]
  },
  {
   "cell_type": "code",
   "execution_count": 26,
   "metadata": {},
   "outputs": [
    {
     "data": {
      "text/plain": [
       "inefficient_extremal_B_tonsbox_chsh (generic function with 1 method)"
      ]
     },
     "metadata": {},
     "output_type": "display_data"
    }
   ],
   "source": [
    "\n",
    "\n",
    "function inefficient_extremal_B_tonsbox_chsh(input_nsboxes::Pair{Symbol, <:Tuple}...)\n",
    "\n",
    "    bell_scenario= (2,2,2,2)\n",
    "    seq_scenario = (1, length(input_nsboxes))\n",
    "\n",
    "    base_boxes = [box.first == :PR ? nsboxes.reconstructFullJoint(PRBoxesCHSH(;Dict(zip((:μ,:ν,:σ), box.second))...)) : nsboxes.reconstructFullJoint(LocalDeterministicBoxesCHSH(;Dict(zip((:α,:γ,:β,:λ), box.second))...)) for box in input_nsboxes]\n",
    "    extremal_box = ones(Tuple(2 for _ in 1:(2*(seq_scenario[1]+seq_scenario[2])))...) #Might replace by a different init value.\n",
    "    \n",
    "    first_input_dim = (seq_scenario[1] + seq_scenario[2] + 1)\n",
    "\n",
    "    for a in 1:2\n",
    "        for bs in Iterators.product((1:2 for _ in 1:seq_scenario[2])...)\n",
    "            for x in 1:2\n",
    "                for ys in Iterators.product((1:2 for _ in 1:seq_scenario[2])...)\n",
    "                    extremal_box[a, bs..., x, ys...] = prod(input_nsboxes[i_b].first == :PR ? base_boxes[i_b][a, bs[i_b], x, ys[i_b]] : sum(base_boxes[i_b], dims=1)[1, bs[i_b], 1, ys[i_b]] for i_b in 1:length(input_nsboxes))\n",
    "                end\n",
    "            end\n",
    "        end\n",
    "    end\n",
    "    \n",
    "    return TimeOrderedNSBox(bell_scenario=bell_scenario, seq_scenario=seq_scenario, condit_joint_dist=extremal_box)\n",
    "end"
   ]
  },
  {
   "cell_type": "code",
   "execution_count": 27,
   "metadata": {},
   "outputs": [
    {
     "name": "stdout",
     "output_type": "stream",
     "text": [
      "sum(condit_joint_dist, dims = Tuple(1:seq_scenario[1] + seq_scenario[2])) = [1.0;;;; 1.0;;;;; 1.0;;;; 1.0;;;;;; 1.0;;;; 1.0;;;;; 1.0;;;; 1.0]\n"
     ]
    },
    {
     "data": {
      "text/plain": [
       "true"
      ]
     },
     "metadata": {},
     "output_type": "display_data"
    }
   ],
   "source": [
    "v2 = inefficient_extremal_B_tonsbox_chsh(:PR=>(0,0,0), :LD=>(0,0,0,0)).condit_joint_dist\n",
    "all(v1 .== v2)"
   ]
  },
  {
   "cell_type": "code",
   "execution_count": 8,
   "metadata": {},
   "outputs": [],
   "source": []
  },
  {
   "cell_type": "code",
   "execution_count": 28,
   "metadata": {},
   "outputs": [
    {
     "name": "stdout",
     "output_type": "stream",
     "text": [
      "(1, 1, 2, 1, 1, 2)\n",
      "sum(condit_joint_dist, dims = Tuple(1:seq_scenario[1] + seq_scenario[2])) = [1.0;;;; 1.0;;;;; 1.0;;;; 1.0;;;;;; 1.0;;;; 1.0;;;;; 1.0;;;; 1.0]\n",
      "(1, 2, 1, 1, 2, 1)\n",
      "sum(condit_joint_dist, dims = Tuple(1:seq_scenario[1] + seq_scenario[2])) = [1.0;;;; 1.0;;;;; 1.0;;;; 1.0;;;;;; 1.0;;;; 1.0;;;;; 1.0;;;; 1.0]\n",
      "sum(condit_joint_dist, dims = Tuple(1:seq_scenario[1] + seq_scenario[2])) = [1.0;;;; 1.0;;;;; 1.0;;;; 1.0;;;;;; 1.0;;;; 1.0;;;;; 1.0;;;; 1.0]\n"
     ]
    },
    {
     "data": {
      "text/plain": [
       "TimeOrderedNSBox((2, 2, 2, 2), (1, 2), [0.5 0.0; 0.0 0.25;;; 0.0 0.0; 0.25 0.0;;;; 0.5 0.0; 0.0 0.25;;; 0.0 0.0; 0.25 0.0;;;;; 0.5 0.0; 0.0 0.25;;; 0.0 0.0; 0.25 0.0;;;; 0.25 0.25; 0.25 0.0;;; 0.0 0.0; 0.25 0.0;;;;;; 0.5 0.0; 0.0 0.25;;; 0.0 0.0; 0.25 0.0;;;; 0.25 0.0; 0.25 0.25;;; 0.25 0.0; 0.0 0.0;;;;; 0.5 0.0; 0.0 0.25;;; 0.0 0.0; 0.25 0.0;;;; 0.0 0.25; 0.5 0.0;;; 0.25 0.0; 0.0 0.0])"
      ]
     },
     "metadata": {},
     "output_type": "display_data"
    }
   ],
   "source": [
    "v_mix = 0.5*extremal_B_tonsbox_chsh( :PR=>(0,0,0),:LD=>(0,0,0,0)) + 0.5*extremal_B_tonsbox_chsh( :LD=>(0,0,0,0), :PR=>(0,0,0))"
   ]
  },
  {
   "cell_type": "code",
   "execution_count": 29,
   "metadata": {},
   "outputs": [
    {
     "data": {
      "text/plain": [
       "(2, 2, 2, 2, 2, 2)"
      ]
     },
     "metadata": {},
     "output_type": "display_data"
    }
   ],
   "source": [
    "size(v_mix.condit_joint_dist)"
   ]
  },
  {
   "cell_type": "markdown",
   "metadata": {},
   "source": [
    "#### Protocol Optimization"
   ]
  },
  {
   "cell_type": "code",
   "execution_count": 30,
   "metadata": {},
   "outputs": [],
   "source": [
    "#using ModelingToolkit, Optimization, OptimizationOptimJL\n",
    "\n",
    "using JuMP, HiGHS\n",
    "\n",
    "#@variable(Model(), p in Parameter(4.0))\n",
    "#parameter_value.(p)\n",
    "# set_parameter_value(p[2], 3.0)"
   ]
  },
  {
   "cell_type": "code",
   "execution_count": 31,
   "metadata": {},
   "outputs": [],
   "source": [
    "\n",
    "# Bell (2,2,2,2) scenario\n",
    "bell_scene = (2,2,2,2) #(n,n,2,2)\n",
    "seq_scnee = (1, 2) #(1,t)\n",
    "n, t = bell_scene[2], seq_scnee[2]\n",
    "@assert n == 2 \"Only n=2 is supported for now\"\n",
    "@assert t == 1 || t == 2 || t == 3 \"Only t=1 or t=2 or t=3 is supported for now\"\n",
    "\n",
    "seq_RAC_model = Model(HiGHS.Optimizer)\n",
    "\n",
    "@variable(seq_RAC_model, η in Parameter(0.5)) #Mixing parameter TONS-box\n",
    "\n",
    "@variable(seq_RAC_model, Χ[0:1, 0:1], Bin) #Χ(α0, α1)\n",
    "\n",
    "@variable(seq_RAC_model, E[0:1, 0:1, 0:1], Bin) #E(α0, α1, a)\n",
    "\n",
    "D = []\n",
    "### Note: For structure of D() it is important that all inputs and outputs (y and b) are available to all guessers, but guesses are made sequentially and a time-ordered structure needs to be ensured!\n",
    "for z in 0:t-1\n",
    "    if z == 0\n",
    "        push!(D, eval(:(@variable(seq_RAC_model, $(Expr(:ref, :D0, :(0:1), [:(0:1) for _ in 0:t-1]..., [:(0:1) for _ in 0:t-1]...)), Bin)))) #D^(z)(E, b_0, ..., b_t-1, y_0, ..., y_t-1) with z ∈ [0,t-1]\n",
    "    else\n",
    "        push!(D, eval(:(@variable(seq_RAC_model, $(Expr(:ref, Symbol(\"D\"*string(z)), :(0:1), [:(0:1) for _ in 0:t-1]..., [:(0:1) for _ in 0:t-1]..., [:(0:1) for _ in 0:z-1]...)), Bin)))) #D^(z)(E, b_0, ..., b_t-1, y_0, ..., y_t-1, g^0, ..., g^z-1) with z ∈ [0,t-1]\n",
    "    end\n",
    "end\n",
    "\n",
    "\n",
    "_ = nothing #To avoid printing the output"
   ]
  },
  {
   "cell_type": "code",
   "execution_count": 33,
   "metadata": {},
   "outputs": [
    {
     "ename": "Base.Meta.ParseError",
     "evalue": "ParseError:\n# Error @ s:\\Sync\\University\\2023_MRP_2\\MRP2_WorkDir\\ABoxWorld\\notebooks\\SeqRACProtocolSearch.ipynb:8:13\n        cumul_mutinfo = 0.0\n        for ...\n#           └─┘ ── invalid identifier",
     "output_type": "error",
     "traceback": [
      "ParseError:\n",
      "# Error @ s:\\Sync\\University\\2023_MRP_2\\MRP2_WorkDir\\ABoxWorld\\notebooks\\SeqRACProtocolSearch.ipynb:8:13\n",
      "        cumul_mutinfo = 0.0\n",
      "        for ...\n",
      "#           └─┘ ── invalid identifier\n",
      "\n",
      "Stacktrace:\n",
      " [1] top-level scope\n",
      "   @ s:\\Sync\\University\\2023_MRP_2\\MRP2_WorkDir\\ABoxWorld\\notebooks\\SeqRACProtocolSearch.ipynb:8"
     ]
    }
   ],
   "source": [
    "\n",
    "function get_seq_RAC_MutInfo_Bound_CHSH(bell_scenario::NTuple{4, <:Int}, seq_scenario::NTuple{2, <:Int})\n",
    "\n",
    "    #Bell scenario (n,n,2,2)\n",
    "    #@assert bell_scenario[1] == bell_scenario[2]\n",
    "    #@assert bell_scenario[3] == 2 && bell_scenario[4] == 2\n",
    "    @assert bell_scenario == (2,2,2,2) #Only supported scenario for now\n",
    "\n",
    "    #Sequence scenario (1,t)\n",
    "    @assert seq_scenario[1] == 1\n",
    "\n",
    "    plogp(p) = p == 0 ? 0 : p * log2(p)\n",
    "\n",
    "    return (η, Χ, E, D) -> begin\n",
    "        tons_box = η * extremal_B_tonsbox_chsh( :PR=>(0,0,0),:LD=>(0,0,0,0)) + (1-η) * extremal_B_tonsbox_chsh( :LD=>(0,0,0,0), :PR=>(0,0,0))\n",
    "\n",
    "        ### Χ = Χ(\\vec{α}) |-> [n]\n",
    "        ### E = E(\\vec{α},a) |-> [2]\n",
    "        ### D = [D^0(E(\\vec{α},a),b_0, b_1, y_0, y_1), D^1(E(\\vec{α},a), b_0, b_1, y_0, y_1, g^(0)), ...] |-> [2, 2, ...]\n",
    "        Χ_func(α) = Χ[...]\n",
    "\n",
    "        \n",
    "        cumul_mutinfo = 0.0\n",
    "        \n",
    "        z = 0\n",
    "        P0_g = Array{Float64}(undef, 2, fill(2, n)..., n)  #P0_g = P(g^(0)|\\vec{α} = \\vec{v}, y_0 = i)\n",
    "        for i in 0:n-1\n",
    "            for v_vec in Iterators.product(fill(0:1, n)...)\n",
    "                for c in 0:1\n",
    "                    P0_g[c, v_vec... , i] = 1/2 + (e_c/2)*( sum( (D0_func(E_func(v_vec, a),b_0, i)==c) for a in 0:1 for b_0 in 0:1) )\n",
    "                end\n",
    "            end\n",
    "        end\n",
    "        \n",
    "\n",
    "        cumul_mutinfo_z0 = n\n",
    "        for i in 0:n-1\n",
    "            TI = -sum( plogp((1/(2^n))*sum(P0_g[c,v_vec...,i] for v_vec in Iterators.product(fill(0:1, n)...) )) for c in 0:1)\n",
    "            TII = -sum( plogp((1/(2^n))*P0_g[c,v_vec...,i] ) for c in 0:1 for v_vec in Iterators.product(fill(0:1, n)...))\n",
    "            cumul_mutinfo_z0 = (1/(n^2)) * (TI - TII)\n",
    "        end\n",
    "        \n",
    "\n",
    "        z=1\n",
    "        P1_g #P1_g = P(g^(1), g^(0)|\\vec{α} = \\vec{v}, y_0 = j_0, y_1 = i)\n",
    "\n",
    "        cumul_mutinfo_z1 = n\n",
    "        for j_0 in 0:n-1\n",
    "            for i in 0:n-1\n",
    "                continue\n",
    "            end\n",
    "        end\n",
    "\n",
    "        cumul_mutinfo\n",
    "    end\n",
    "end\n",
    "\n",
    "seq_RAC_mutinfo_bound = get_seq_RAC_MutInfo_Bound(bell_scene, seq_scene)\n",
    "@objective(seq_RAC_model, Max, seq_RAC_mutinfo_bound(η, Χ, E, D))"
   ]
  },
  {
   "cell_type": "code",
   "execution_count": 15,
   "metadata": {},
   "outputs": [
    {
     "ename": "LoadError",
     "evalue": "LoadError: UndefVarError: `@parameters` not defined\nin expression starting at s:\\Sync\\University\\2023_MRP_2\\MRP2_WorkDir\\ABoxWorld\\notebooks\\SeqRACProtocolSearch.ipynb:2",
     "output_type": "error",
     "traceback": [
      "LoadError: UndefVarError: `@parameters` not defined\n",
      "in expression starting at s:\\Sync\\University\\2023_MRP_2\\MRP2_WorkDir\\ABoxWorld\\notebooks\\SeqRACProtocolSearch.ipynb:2\n"
     ]
    }
   ],
   "source": [
    "\n",
    "@parameters η\n",
    "\n",
    "loss(Χ, η) = η * Χ(1,1) + (1-η) * Χ(1,0)\n"
   ]
  },
  {
   "cell_type": "code",
   "execution_count": 16,
   "metadata": {},
   "outputs": [
    {
     "data": {
      "text/plain": [
       "2-dimensional DenseAxisArray{VariableRef,2,...} with index sets:\n",
       "    Dimension 1, 0:1\n",
       "    Dimension 2, 0:1\n",
       "And data, a 2×2 Matrix{VariableRef}:\n",
       " Χ[0,0]  Χ[0,1]\n",
       " Χ[1,0]  Χ[1,1]"
      ]
     },
     "metadata": {},
     "output_type": "display_data"
    }
   ],
   "source": [
    "Χ"
   ]
  },
  {
   "cell_type": "code",
   "execution_count": 17,
   "metadata": {},
   "outputs": [],
   "source": []
  },
  {
   "cell_type": "code",
   "execution_count": 18,
   "metadata": {},
   "outputs": [],
   "source": []
  },
  {
   "cell_type": "code",
   "execution_count": 20,
   "metadata": {},
   "outputs": [
    {
     "ename": "BoundsError",
     "evalue": "BoundsError: attempt to access Tuple{} at index [1]",
     "output_type": "error",
     "traceback": [
      "BoundsError: attempt to access Tuple{} at index [1]\n",
      "\n",
      "Stacktrace:\n",
      "  [1] getindex(t::Tuple, i::Int64)\n",
      "    @ Base .\\tuple.jl:31\n",
      "  [2] (::Base.var\"#79#80\"{Tuple{}, UnitRange{Int64}})(i::Int64)\n",
      "    @ Base .\\range.jl:429\n",
      "  [3] ntuple\n",
      "    @ .\\ntuple.jl:19 [inlined]\n",
      "  [4] getindex\n",
      "    @ .\\range.jl:429 [inlined]\n",
      "  [5] macro expansion\n",
      "    @ C:\\Users\\trothe\\.julia\\packages\\MutableArithmetics\\2vhhw\\src\\rewrite.jl:321 [inlined]\n",
      "  [6] macro expansion\n",
      "    @ C:\\Users\\trothe\\.julia\\packages\\JuMP\\kSaGf\\src\\macros.jl:257 [inlined]\n",
      "  [7] macro expansion\n",
      "    @ C:\\Users\\trothe\\.julia\\packages\\JuMP\\kSaGf\\src\\macros\\@constraint.jl:131 [inlined]\n",
      "  [8] (::var\"#246#257\"{Int64, Tuple{Int64, Int64}, Tuple{Int64, Int64}, Int64, Tuple{}, Model})(b_z::Int64)\n",
      "    @ Main C:\\Users\\trothe\\.julia\\packages\\JuMP\\kSaGf\\src\\Containers\\macro.jl:539\n",
      "  [9] #87\n",
      "    @ C:\\Users\\trothe\\.julia\\packages\\JuMP\\kSaGf\\src\\Containers\\container.jl:124 [inlined]\n",
      " [10] iterate\n",
      "    @ .\\generator.jl:47 [inlined]\n",
      " [11] collect(itr::Base.Generator{JuMP.Containers.VectorizedProductIterator{Tuple{UnitRange{Int64}}}, JuMP.Containers.var\"#87#89\"{var\"#246#257\"{Int64, Tuple{Int64, Int64}, Tuple{Int64, Int64}, Int64, Tuple{}, Model}}})\n",
      "    @ Base .\\array.jl:834\n",
      " [12] map(f::Function, A::JuMP.Containers.VectorizedProductIterator{Tuple{UnitRange{Int64}}})\n",
      "    @ Base .\\abstractarray.jl:3313\n",
      " [13] container(f::Function, indices::JuMP.Containers.VectorizedProductIterator{Tuple{UnitRange{Int64}}}, ::Type{JuMP.Containers.DenseAxisArray}, names::Vector{Any})\n",
      "    @ JuMP.Containers C:\\Users\\trothe\\.julia\\packages\\JuMP\\kSaGf\\src\\Containers\\container.jl:123\n",
      " [14] container(f::Function, indices::JuMP.Containers.VectorizedProductIterator{Tuple{UnitRange{Int64}}}, ::Type{JuMP.Containers.AutoContainerType}, names::Vector{Any})\n",
      "    @ JuMP.Containers C:\\Users\\trothe\\.julia\\packages\\JuMP\\kSaGf\\src\\Containers\\container.jl:75\n",
      " [15] macro expansion\n",
      "    @ C:\\Users\\trothe\\.julia\\packages\\JuMP\\kSaGf\\src\\macros.jl:393 [inlined]\n",
      " [16] top-level scope\n",
      "    @ s:\\Sync\\University\\2023_MRP_2\\MRP2_WorkDir\\ABoxWorld\\notebooks\\SeqRACProtocolSearch.ipynb:12"
     ]
    }
   ],
   "source": [
    "@variable(seq_RAC_model, Χ[0:1, 0:1], Bin) #Χ(α0, α1)\n",
    "\n",
    "@variable(seq_RAC_model, E[0:1, 0:1, 0:1], Bin) #E(α0, α1, a)\n",
    "\n",
    "eval(:(@variable(seq_RAC_model, $(Expr(:ref, :D, 0:t-1, :(0:1), [:(0:1) for _ in 1:t]..., [:(0:1) for _ in 1:t]..., [:(0:1) for _ in 1:t]...)), Bin))) #D(z, E, b0, ..., bt-1, y0, ..., yt-1, g0, ..., gt-1) with z ∈ [0,t-1] s.t. D[z, ...] = D^(z)\n",
    "\n",
    "\n",
    "#Constraints for (2,2,2,2) scenario and t=1, t=2\n",
    "if t == 1\n",
    "    #No constraints needed for t=1\n",
    "elseif t == 2\n",
    "    for z in 0:1\n",
    "        for c_E in 0:1\n",
    "            for y in Iterators.product(0:1, 0:1)\n",
    "                #Optional constraints == independence of b_i for i != z \n",
    "                \n",
    "                for g in Iterators.product(0:1, 0:1)\n",
    "                    if z == 0\n",
    "                        @constraint(seq_RAC_model, [b_z = 0:1], D[z, c_E, b_z, 0, y[1], y[2], g[1], g[2]] == D[z, c_E, b_z, 1, y[1], y[2], g[1], g[2]]) #Independence of b_i for all i != z  \n",
    "                    elseif z == 1\n",
    "                        @constraint(seq_RAC_model, [b_z = 0:1], D[z, c_E, 0, b_z, y[1], y[2], g[1], g[2]] == D[z, c_E, 1, b_z, y[1], y[2], g[1], g[2]]) #Independence of b_i for all i != z\n",
    "                    end\n",
    "                end\n",
    "\n",
    "                # Mandatory constraints == independence of g_z (i.e. itself)\n",
    "                for b in Iterators.product(0:1, 0:1)\n",
    "                    if z == 0\n",
    "                        @constraint(seq_RAC_model, [g_not_z = 0:1], D[z, c_E, b[1], b[2], y[1], y[2], 0, g_not_z] == D[z, c_E, b[1], b[2], y[1], y[2], 1, g_not_z]) #Independence of g_0 (i.e. itself)\n",
    "                    elseif z == 1\n",
    "                        @constraint(seq_RAC_model, [g_not_z = 0:1], D[z, c_E, b[1], b[2], y[1], y[2], g_not_z, 0] == D[z, c_E, b[1], b[2], y[1], y[2], g_not_z, 1]) #Independence of g_1 (i.e. itself)\n",
    "                    end\n",
    "                end\n",
    "            end\n",
    "        end\n",
    "    end\n",
    "elseif t == 3\n",
    "    for z in 0:2\n",
    "        for c_E in 0:1\n",
    "            for y in Iterators.product(0:1, 0:1, 0:1)\n",
    "                #Optional constraints == independence of b_i for i != z \n",
    "                \n",
    "                for g in Iterators.product(0:1, 0:1, 0:1) \n",
    "                    if z == 0\n",
    "                        for b_red in Iterators.product(0:1, 0:1) #b_1, b_2 (not b_0)\n",
    "                            @constraint(seq_RAC_model, [b_z = 0:1], D[z, c_E, b_z, b_red[1], b_red[2], y[1], y[2], y[3], g[1], g[2], g[3]] == D[z, c_E, b_z, b_red[1], b_red[2], y[1], y[2], y[3], g[1], g[2], g[3]]) #Independence of b_i for all i != z\n",
    "                        end\n",
    "                    elseif z == 1\n",
    "                        for b_red in Iterators.product(0:1, 0:1) #b_0, b_2 (not b_1)\n",
    "                            @constraint(seq_RAC_model, [b_z = 0:1], D[z, c_E, b_red[1], b_z, b_red[2], y[1], y[2], y[3], g[1], g[2], g[3]] == D[z, c_E, b_red[1], b_z, b_red[2], y[1], y[2], y[3], g[1], g[2], g[3]]) #Independence of b_i for all i != z\n",
    "                        end\n",
    "                    elseif z == 2\n",
    "                        for b_red in Iterators.product(0:1, 0:1) #b_0, b_1 (not b_2)\n",
    "                            @constraint(seq_RAC_model, [b_z = 0:1], D[z, c_E, b_red[1], b_red[2], b_z, y[1], y[2], y[3], g[1], g[2], g[3]] == D[z, c_E, b_red[1], b_red[2], b_z, y[1], y[2], y[3], g[1], g[2], g[3]]) #Independence of b_i for all i != z\n",
    "                        end\n",
    "                    end\n",
    "                end\n",
    "                \n",
    "                for b in Iterators.product(0:1, 0:1, 0:1)\n",
    "                    if z == 0\n",
    "                        for g_red in Iterators.product(0:1, 0:1) #g_0 (not g_1, g_2)\n",
    "                            @constraint(seq_RAC_model, D[z, c_E, b[1], b[2], b[3], y[1], y[2], y[3], 0, g_red[1], g_red[2]] == D[z, c_E, b[1], b[2], b[3], y[1], y[2], y[3], 1, g_red[1], g_red[2]]) #Independence of g_0 (i.e. itself)\n",
    "                        end\n",
    "                    elseif z == 1\n",
    "                        for g_red in Iterators.product(0:1, 0:1) #g_1 (not g_0, g_2)\n",
    "                            @constraint(seq_RAC_model, D[z, c_E, b[1], b[2], b[3], y[1], y[2], y[3], g_red[1], 0, g_red[2]] == D[z, c_E, b[1], b[2], b[3], y[1], y[2], y[3], g_red[1], 1, g_red[2]]) #Independence of g_1 (i.e. itself)\n",
    "                        end\n",
    "                    elseif z == 2\n",
    "                        for g_red in Iterators.product(0:1, 0:1) #g_2 (not g_0, g_1)\n",
    "                            @constraint(seq_RAC_model, D[z, c_E, b[1], b[2], b[3], y[1], y[2], y[3], g_red[1], g_red[2], 0] == D[z, c_E, b[1], b[2], b[3], y[1], y[2], y[3], g_red[1], g_red[2], 1]) #Independence of g_2 (i.e. itself)\n",
    "                        end\n",
    "                    end\n",
    "                end\n",
    "            end\n",
    "        end \n",
    "    end\n",
    "end\n"
   ]
  }
 ],
 "metadata": {
  "kernelspec": {
   "display_name": "Julia 1.10.2",
   "language": "julia",
   "name": "julia-1.10"
  },
  "language_info": {
   "file_extension": ".jl",
   "mimetype": "application/julia",
   "name": "julia",
   "version": "1.10.2"
  }
 },
 "nbformat": 4,
 "nbformat_minor": 2
}
