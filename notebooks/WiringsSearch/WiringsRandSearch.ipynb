{
 "cells": [
  {
   "cell_type": "code",
   "execution_count": 1,
   "metadata": {},
   "outputs": [
    {
     "name": "stderr",
     "output_type": "stream",
     "text": [
      "┌ Info: ABoxWorld project environment is loaded and active\n",
      "└ @ Main s:\\Sync\\University\\2023_MRP_2\\MRP2_WorkDir\\ABoxWorld\\src\\ABoxWorld.jl:10\n"
     ]
    }
   ],
   "source": [
    "#using Revise\n",
    "using DrWatson\n",
    "@quickactivate \"ABoxWorld\"\n",
    "include(srcdir(\"ABoxWorld.jl\"));"
   ]
  },
  {
   "cell_type": "code",
   "execution_count": 2,
   "metadata": {},
   "outputs": [
    {
     "data": {
      "text/plain": [
       "true"
      ]
     },
     "metadata": {},
     "output_type": "display_data"
    }
   ],
   "source": [
    "#conditions.check(NS_Conditions(), Random_NS_Mixture_CHSH())\n",
    "conditions.check(Original_IC_Bound(), Random_NS_Mixture_CHSH(;non_local_bias=true), :Q)\n",
    "#sdp_conditions.is_in_NPA(nsboxes.reconstructFullJoint(Random_NS_Mixture_CHSH()))"
   ]
  },
  {
   "cell_type": "code",
   "execution_count": 3,
   "metadata": {},
   "outputs": [
    {
     "name": "stdout",
     "output_type": "stream",
     "text": [
      "(normalization_min, normalization_max, marginal_A_limit, marginal_B_limit) = (0.21748000066851247, 1.0, 0.7340213831800354, 0.48345861748847707)\n",
      "(normalization_min, normalization_max, marginal_A_limit, marginal_B_limit) = (0.43345336072984697, 1.0, 0.592463874345352, 0.8409894863844949)\n",
      "(normalization_min, normalization_max, marginal_A_limit, marginal_B_limit) = (0.5750108695645304, 1.0, 0.7340213831800354, 0.8409894863844949)\n",
      "(normalization_min, normalization_max, marginal_A_limit, marginal_B_limit) = (0.07592249183382904, 1.0, 0.592463874345352, 0.48345861748847707)\n",
      "[0.7340213831800354, 0.592463874345352]\n",
      "[0.48345861748847707, 0.8409894863844949]\n",
      "[0.3389119181818678 0.5972152359738263; 0.2974668061614932 0.4912520944560043]\n"
     ]
    }
   ],
   "source": [
    "init_box = RandomNSBox((2,2,2,2))\n",
    "println(init_box.marginals_vec_A)\n",
    "println(init_box.marginals_vec_B)\n",
    "println(init_box.joints_mat)\n",
    "#println(init_box)\n",
    "#println([init_box.joints_mat[end,end] init_box.marginals_vec_A[end]-init_box.joints_mat[end,end];\n",
    "#    init_box.marginals_vec_B[end]-init_box.joints_mat[end,end] (1.0-init_box.joints_mat[end,end]-(init_box.marginals_vec_A[end]-init_box.joints_mat[end,end])-(init_box.marginals_vec_B[end]-init_box.joints_mat[end,end])) ])\n",
    "#fullNSjoint = nsboxes.reconstructFullJoint(init_box)\n",
    "#fullNSjoint\n",
    "#println(conditions.check(NS_Conditions(), fullNSjoint))"
   ]
  },
  {
   "cell_type": "code",
   "execution_count": 4,
   "metadata": {},
   "outputs": [],
   "source": [
    "\n",
    "\n",
    "using LinearAlgebra\n",
    "using TensorOperations\n",
    "using Parameters\n",
    "using CairoMakie\n",
    "CairoMakie.activate!()\n",
    "#using GLMakie\n",
    "#GLMakie.activate!()\n"
   ]
  },
  {
   "cell_type": "code",
   "execution_count": 5,
   "metadata": {},
   "outputs": [
    {
     "data": {
      "text/plain": [
       "is_in_IC (generic function with 1 method)"
      ]
     },
     "metadata": {},
     "output_type": "display_data"
    }
   ],
   "source": [
    "\n",
    "convert_matrixbox_to_nsjoint = wirings.convert_matrixbox_to_nsjoint\n",
    "convert_nsjoint_to_matrixbox = wirings.convert_nsjoint_to_matrixbox\n",
    "\n",
    "\n",
    "# Boxes as 2x2x2x2 tensors\n",
    "MaxMixedBox = nsboxes.reconstructFullJoint(UniformRandomBox((2, 2, 2, 2)))\n",
    "PR(μ, ν, σ) = nsboxes.reconstructFullJoint(PRBoxesCHSH(;μ=μ, ν=ν, σ=σ))\n",
    "CanonicalPR = PR(0, 0, 0)\n",
    "PL(α, γ, β, λ) = nsboxes.reconstructFullJoint(LocalDeterministicBoxesCHSH(;α=α, γ=γ, β=β, λ=λ))\n",
    "SR = (PL(0,0,0,0) .+ PL(0,1,0,1)) ./ 2\n",
    "#SR = matrix_to_tensor(non_local_boxes.utils.SR)\n",
    "#PRprime = matrix_to_tensor(non_local_boxes.utils.PRprime)\n",
    "#P0 = matrix_to_tensor(non_local_boxes.utils.P_0)\n",
    "#P1 = matrix_to_tensor(non_local_boxes.utils.P_1)\n",
    "\n",
    "\n",
    "CHSH_score = games.canonical_CHSH_score\n",
    "#CHSHprime_score = games.CHSH_score_generator(-1,1,1,1; batched=false)\n",
    "CHSHprime_score = games.CHSH_score_generator(1,-1,1,1; batched=false)\n",
    "\n",
    "\n",
    "BoxProduct = wirings.tensorized_boxproduct\n",
    "reduc_BoxProduct = wirings.reduc_tensorized_boxproduct\n",
    "BoxProduct_matrices(w::Matrix{<:Real}, matrixbox1::Matrix{Float64}, matrixbox2::Matrix{Float64}) = convert_nsjoint_to_matrixbox(reduc_BoxProduct(w, matrixbox1, matrixbox2))\n",
    "\n",
    "\n",
    "IC_Bound = Original_IC_Bound()\n",
    "IC_Bound_LHS(P::Array{Float64, 4}) = conditions.evaluate(IC_Bound, P)\n",
    "IC_Bound_LHS(W::Matrix{<:Real}, P_mat::Matrix{Float64}, Q_mat::Matrix{Float64}) = games.Original_IC_Bound_score(W, P_mat, Q_mat)\n",
    "IC_Bound_LHS(W::Vector{<:Real}, P_mat::Matrix{Float64}, Q_mat::Matrix{Float64}) = games.Original_IC_Bound_score(W, P_mat, Q_mat)\n",
    "\n",
    "IC_MutInfo = games.MutInfo_IC_vanDam_score\n",
    "\n",
    "function is_in_IC(P::Array{Float64, 4})\n",
    "    return conditions.check(IC_Bound, P, :Q)\n",
    "end\n"
   ]
  },
  {
   "cell_type": "code",
   "execution_count": 6,
   "metadata": {},
   "outputs": [
    {
     "data": {
      "text/plain": [
       "greedy_lifting_extremal_wiring_search (generic function with 1 method)"
      ]
     },
     "metadata": {},
     "output_type": "display_data"
    }
   ],
   "source": [
    "include(scriptsdir(\"WiringsSearch\", \"WiringsRandSearch.jl\"))"
   ]
  },
  {
   "cell_type": "code",
   "execution_count": 12,
   "metadata": {},
   "outputs": [
    {
     "name": "stderr",
     "output_type": "stream",
     "text": [
      "┌ Info: 2024-03-19 13:49:13 | message = Searching for IC-violating wirings... | maxrss = 1813.31 MiB\n",
      "└ @ Main s:\\Sync\\University\\2023_MRP_2\\MRP2_WorkDir\\ABoxWorld\\scripts\\WiringsSearch\\wirings_search.jl:30\n",
      "┌ Warning: Noticed strange movement, non-IC -> IC -> non-IC, only by adding uniform noise; When should this happen?; For safety, we'll just search for something else\n",
      "└ @ Main s:\\Sync\\University\\2023_MRP_2\\MRP2_WorkDir\\ABoxWorld\\notebooks\\WiringsSearch\\WiringsRandSearch.ipynb:54\n"
     ]
    },
    {
     "name": "stdout",
     "output_type": "stream",
     "text": [
      "(:LD, Dict(:α => 1, :γ => 1, :λ => 0, :β => 0))\n",
      "(:LD, Dict(:α => 0, :γ => 0, :λ => 0, :β => 0))\n",
      "(:PR, Dict(:ν => 0, :μ => 1, :σ => 0))\n",
      "with coefficients: 0.217 0.305 0.477\n"
     ]
    },
    {
     "name": "stderr",
     "output_type": "stream",
     "text": [
      "┌ Warning: Noticed strange movement, non-IC -> IC -> non-IC, only by adding uniform noise; When should this happen?; For safety, we'll just search for something else\n",
      "└ @ Main s:\\Sync\\University\\2023_MRP_2\\MRP2_WorkDir\\ABoxWorld\\notebooks\\WiringsSearch\\WiringsRandSearch.ipynb:54\n",
      "┌ Info: 2024-03-19 13:49:13 | message = Found 1-th box in IC-Q gap in trail 3 of 4 | maxrss = 1813.31 MiB\n",
      "└ @ Main s:\\Sync\\University\\2023_MRP_2\\MRP2_WorkDir\\ABoxWorld\\scripts\\WiringsSearch\\wirings_search.jl:30\n",
      "┌ Info: The decomposition of the box is:\n",
      "└ @ Main s:\\Sync\\University\\2023_MRP_2\\MRP2_WorkDir\\ABoxWorld\\notebooks\\WiringsSearch\\WiringsRandSearch.ipynb:69\n",
      "┌ Info: 2024-03-19 13:49:14 | message = Starting search for IC-violating wirings for this box in the IC-Q gap ... | maxrss = 1813.31 MiB\n",
      "└ @ Main s:\\Sync\\University\\2023_MRP_2\\MRP2_WorkDir\\ABoxWorld\\scripts\\WiringsSearch\\wirings_search.jl:30\n"
     ]
    },
    {
     "name": "stdout",
     "output_type": "stream",
     "text": [
      "(:LD, Dict(:α => 1, :γ => 0, :λ => 1, :β => 1))\n",
      "(:PR, Dict(:ν => 0, :μ => 1, :σ => 1))\n",
      "(:PR, Dict(:ν => 1, :μ => 0, :σ => 1))\n",
      "with coefficients: 0.416 0.43 0.154\n"
     ]
    },
    {
     "name": "stderr",
     "output_type": "stream",
     "text": [
      "┌ Info: 2024-03-19 13:49:18 | message = *No* IC-violating wirings found for 1-th box in IC-Q gap in trail 3 of 4 | maxrss = 1813.31 MiB\n",
      "└ @ Main s:\\Sync\\University\\2023_MRP_2\\MRP2_WorkDir\\ABoxWorld\\scripts\\WiringsSearch\\wirings_search.jl:30\n",
      "┌ Info: 2024-03-19 13:49:18 | message = Found 2-th box in IC-Q gap in trail 4 of 4 | maxrss = 1813.31 MiB\n",
      "└ @ Main s:\\Sync\\University\\2023_MRP_2\\MRP2_WorkDir\\ABoxWorld\\scripts\\WiringsSearch\\wirings_search.jl:30\n",
      "┌ Info: The decomposition of the box is:\n",
      "└ @ Main s:\\Sync\\University\\2023_MRP_2\\MRP2_WorkDir\\ABoxWorld\\notebooks\\WiringsSearch\\WiringsRandSearch.ipynb:69\n",
      "┌ Info: 2024-03-19 13:49:18 | message = Starting search for IC-violating wirings for this box in the IC-Q gap ... | maxrss = 1813.31 MiB\n",
      "└ @ Main s:\\Sync\\University\\2023_MRP_2\\MRP2_WorkDir\\ABoxWorld\\scripts\\WiringsSearch\\wirings_search.jl:30\n",
      "┌ Info: 2024-03-19 13:49:22 | message = *No* IC-violating wirings found for 2-th box in IC-Q gap in trail 4 of 4 | maxrss = 1813.31 MiB\n",
      "└ @ Main s:\\Sync\\University\\2023_MRP_2\\MRP2_WorkDir\\ABoxWorld\\scripts\\WiringsSearch\\wirings_search.jl:30\n"
     ]
    },
    {
     "data": {
      "text/plain": [
       "Dict{String, Any} with 6 entries:\n",
       "  \"approach_from\"        => :above\n",
       "  \"IC_violating_wirings\" => Any[]\n",
       "  \"mode\"                 => :uniform\n",
       "  \"search_precision\"     => 0.004\n",
       "  \"max_wiring_order\"     => 2\n",
       "  \"precision\"            => 0.014"
      ]
     },
     "metadata": {},
     "output_type": "display_data"
    }
   ],
   "source": [
    "\n",
    "c_config = WiringsRandomSearchConfig(mode=:uniform, \n",
    "                                    approach_from=:above, \n",
    "                                    search_precision=4e-3, \n",
    "                                    precision=1.4e-2, \n",
    "                                    max_wiring_order=2\n",
    "                                )\n",
    "    \n",
    "data_output = Wirings_Random_Search(c_config; verbose=true)\n",
    "\n",
    "#data_output, data_filename = produce_or_load(Wirings_Random_Search, \n",
    "#                                            c_config,\n",
    "#                                            mkpath(datadir(\"WiringsRandomSearch\"));\n",
    "#                                            verbose=true,\n",
    "#                                            )\n"
   ]
  }
 ],
 "metadata": {
  "kernelspec": {
   "display_name": "Julia 1.10.2",
   "language": "julia",
   "name": "julia-1.10"
  },
  "language_info": {
   "file_extension": ".jl",
   "mimetype": "application/julia",
   "name": "julia",
   "version": "1.10.2"
  }
 },
 "nbformat": 4,
 "nbformat_minor": 2
}
