{
 "cells": [
  {
   "cell_type": "markdown",
   "metadata": {},
   "source": []
  },
  {
   "cell_type": "code",
   "execution_count": null,
   "metadata": {},
   "outputs": [],
   "source": [
    "include(\"../QuantumNPA/QuantumNPA.jl\")\n",
    "using ..QuantumNPA\n",
    "\n",
    "@dichotomic A1 A2 B1 B2;\n",
    "\n",
    "S = A1*(B1 + B2) + A2*(B1 - B2)\n",
    "\n",
    "j_mo, j_vars = npa2jump(S, 1; goal=:maximize, return_vars=true)\n",
    "\n"
   ]
  },
  {
   "cell_type": "code",
   "execution_count": null,
   "metadata": {},
   "outputs": [],
   "source": [
    "using JuMP, SCS\n",
    "JuMP.set_optimizer(j_mo, SCS.Optimizer)\n",
    "optimize!(j_mo)\n",
    " value.(j_vars[1])"
   ]
  },
  {
   "cell_type": "code",
   "execution_count": null,
   "metadata": {},
   "outputs": [],
   "source": [
    "include(\"../QuantumNPA/QuantumNPA.jl\")\n",
    "using ..QuantumNPA\n",
    "\n",
    "PA = projector(1, 1:2, 1:2, full=true)\n",
    "PB = projector(2, 1:2, 1:2, full=true)\n",
    "\n",
    "\n",
    "G = (sum(2*(PA[1,i]*PB[1,j] + PA[2,i]*PB[2,j]) - Id for (i,j) in [(1,1), (1,2), (2,1)]) - (2*(PA[1,2]*PB[1,2] + PA[2,2]*PB[2,2]) - Id))\n",
    "\n",
    "j_mo, j_vars = npa2jump(G, 2; goal=:maximize, return_vars=true)"
   ]
  },
  {
   "cell_type": "code",
   "execution_count": null,
   "metadata": {},
   "outputs": [],
   "source": [
    "using JuMP, SCS\n",
    "JuMP.set_optimizer(j_mo, SCS.Optimizer)\n",
    "optimize!(j_mo)\n",
    "(1 .+ value.(j_vars[1])) ./ 2"
   ]
  },
  {
   "cell_type": "code",
   "execution_count": 1,
   "metadata": {},
   "outputs": [
    {
     "data": {
      "text/plain": [
       "1.000009488123511"
      ]
     },
     "metadata": {},
     "output_type": "display_data"
    }
   ],
   "source": []
  }
 ],
 "metadata": {
  "kernelspec": {
   "display_name": "Julia 1.10.1",
   "language": "julia",
   "name": "julia-1.10"
  },
  "language_info": {
   "file_extension": ".jl",
   "mimetype": "application/julia",
   "name": "julia",
   "version": "1.10.1"
  }
 },
 "nbformat": 4,
 "nbformat_minor": 2
}
