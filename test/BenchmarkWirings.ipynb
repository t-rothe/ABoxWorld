{
 "cells": [
  {
   "cell_type": "code",
   "execution_count": 1,
   "metadata": {},
   "outputs": [
    {
     "name": "stderr",
     "output_type": "stream",
     "text": [
      "┌ Error: This code is meant to be used in the ABoxWorld project. Please activate the ABoxWorld project by \"@quickactivate ABoxWorld\" before using this code\n",
      "└ @ Main s:\\Sync\\University\\2023_MRP_2\\MRP2_WorkDir\\ABoxWorld\\src\\ABoxWorld_core.jl:5\n",
      "\u001b[32m\u001b[1m    CondaPkg \u001b[22m\u001b[39m\u001b[0mFound dependencies: s:\\Sync\\University\\2023_MRP_2\\MRP2_WorkDir\\ABoxWorld\\CondaPkg.toml\n",
      "\u001b[32m\u001b[1m    CondaPkg \u001b[22m\u001b[39m\u001b[0mFound dependencies: C:\\Users\\trothe\\.julia\\packages\\PythonCall\\wXfah\\CondaPkg.toml\n",
      "\u001b[32m\u001b[1m    CondaPkg \u001b[22m\u001b[39m\u001b[0mFound dependencies: C:\\Users\\trothe\\.julia\\environments\\v1.10\\CondaPkg.toml\n",
      "\u001b[32m\u001b[1m    CondaPkg \u001b[22m\u001b[39m\u001b[0mFound dependencies: C:\\Users\\trothe\\.julia\\packages\\PythonPlot\\KcWMF\\CondaPkg.toml\n",
      "\u001b[32m\u001b[1m    CondaPkg \u001b[22m\u001b[39m\u001b[0mRemoving environment\n",
      "\u001b[32m\u001b[1m             \u001b[22m\u001b[39m│ \u001b[90mC:\\Users\\trothe\\.julia\\artifacts\\4b87dc8b933ca2d289a392e264aaf44df2410f6f\\bin\\micromamba.exe\u001b[39m\n",
      "\u001b[32m\u001b[1m             \u001b[22m\u001b[39m│ \u001b[90m-r C:\\Users\\trothe\\.julia\\scratchspaces\\0b3b1443-0f03-428d-bdfb-f27f9c1191ea\\root\u001b[39m\n",
      "\u001b[32m\u001b[1m             \u001b[22m\u001b[39m│ \u001b[90mremove\u001b[39m\n",
      "\u001b[32m\u001b[1m             \u001b[22m\u001b[39m│ \u001b[90m-y\u001b[39m\n",
      "\u001b[32m\u001b[1m             \u001b[22m\u001b[39m│ \u001b[90m-p s:\\Sync\\University\\2023_MRP_2\\MRP2_WorkDir\\ABoxWorld\\.CondaPkg\\env\u001b[39m\n",
      "\u001b[32m\u001b[1m             \u001b[22m\u001b[39m└ \u001b[90m--all\u001b[39m\n"
     ]
    },
    {
     "name": "stdout",
     "output_type": "stream",
     "text": [
      "Transaction\n",
      "\n",
      "  Prefix: S:\\Sync\\University\\2023_MRP_2\\MRP2_WorkDir\\ABoxWorld\\.CondaPkg\\env\n",
      "\n",
      "  Removing specs:\n",
      "\n",
      "   - brotli\n",
      "   - brotli-bin\n",
      "   - bzip2\n",
      "   - ca-certificates\n",
      "   - certifi\n",
      "   - contourpy\n",
      "   - cycler\n",
      "   - fonttools\n",
      "   - freetype\n",
      "   - gettext\n",
      "   - glib\n",
      "   - glib-tools\n",
      "   - gst-plugins-base\n",
      "   - gstreamer\n",
      "   - icu\n",
      "   - intel-openmp\n",
      "   - kiwisolver\n",
      "   - krb5\n",
      "   - lcms2\n",
      "   - lerc\n",
      "   - libblas\n",
      "   - libbrotlicommon\n",
      "   - libbrotlidec\n",
      "   - libbrotlienc\n",
      "   - libcblas\n",
      "   - libclang\n",
      "   - libclang13\n",
      "   - libdeflate\n",
      "   - libexpat\n",
      "   - libffi\n",
      "   - libglib\n",
      "   - libhwloc\n",
      "   - libiconv\n",
      "   - libjpeg-turbo\n",
      "   - liblapack\n",
      "   - libogg\n",
      "   - libpng\n",
      "   - libsqlite\n",
      "   - libtiff\n",
      "   - libvorbis\n",
      "   - libwebp-base\n",
      "   - libxcb\n",
      "   - libxml2\n",
      "   - libzlib\n",
      "   - m2w64-gcc-libgfortran\n",
      "   - m2w64-gcc-libs\n",
      "   - m2w64-gcc-libs-core\n",
      "   - m2w64-gmp\n",
      "   - m2w64-libwinpthread-git\n",
      "   - matplotlib\n",
      "   - matplotlib-base\n",
      "   - mkl\n",
      "   - mpmath\n",
      "   - msys2-conda-epoch\n",
      "   - munkres\n",
      "   - ncpol2sdpa\n",
      "   - numpy\n",
      "   - openjpeg\n",
      "   - openssl\n",
      "   - packaging\n",
      "   - pcre2\n",
      "   - pillow\n",
      "   - pip\n",
      "   - ply\n",
      "   - pthread-stubs\n",
      "   - pthreads-win32\n",
      "   - pyparsing\n",
      "   - pyqt\n",
      "   - pyqt5-sip\n",
      "   - python\n",
      "   - python-dateutil\n",
      "   - python_abi\n",
      "   - qt-main\n",
      "   - setuptools\n",
      "   - sip\n",
      "   - six\n",
      "   - sympy\n",
      "   - tbb\n",
      "   - tk\n",
      "   - toml\n",
      "   - tomli\n",
      "   - tornado\n",
      "   - tzdata\n",
      "   - ucrt\n",
      "   - vc\n",
      "   - vc14_runtime\n",
      "   - vs2015_runtime\n",
      "   - wheel\n",
      "   - xorg-libxau\n",
      "   - xorg-libxdmcp\n",
      "   - xz\n",
      "   - zstd\n",
      "\n",
      "\n",
      "  Package                               Version  Build                  Channel           Size\n",
      "------------------------------------------------------------------------------------------------\n",
      "  Remove:\n",
      "------------------------------------------------------------------------------------------------\n",
      "\n",
      "  - matplotlib                            3.8.3  py312h2e8e312_0        conda-forge     Cached\n",
      "  - ncpol2sdpa                           1.12.2  py_1                   conda-forge     Cached\n",
      "  - tornado                                 6.4  py312he70551f_0        conda-forge     Cached\n",
      "  - pyqt                                 5.15.9  py312he09f080_5        conda-forge     Cached\n",
      "  - matplotlib-base                       3.8.3  py312h26ecaf7_0        conda-forge     Cached\n",
      "  - sympy                                  1.12  pyh04b8f61_3           conda-forge     Cached\n",
      "  - qt-main                              5.15.8  h9e85ed6_19            conda-forge     Cached\n",
      "  - pyqt5-sip                           12.12.2  py312h53d5487_5        conda-forge     Cached\n",
      "  - python-dateutil                       2.9.0  pyhd8ed1ab_0           conda-forge     Cached\n",
      "  - pyparsing                             3.1.2  pyhd8ed1ab_0           conda-forge     Cached\n",
      "  - pillow                               10.2.0  py312he768995_0        conda-forge     Cached\n",
      "  - kiwisolver                            1.4.5  py312h0d7def4_1        conda-forge     Cached\n",
      "  - fonttools                            4.49.0  py312he70551f_0        conda-forge     Cached\n",
      "  - cycler                               0.12.1  pyhd8ed1ab_0           conda-forge     Cached\n",
      "  - contourpy                             1.2.0  py312h0d7def4_0        conda-forge     Cached\n",
      "  - certifi                            2024.2.2  pyhd8ed1ab_0           conda-forge     Cached\n",
      "  - mpmath                                1.3.0  pyhd8ed1ab_0           conda-forge     Cached\n",
      "  - libclang                             15.0.7  default_hde6756a_4     conda-forge     Cached\n",
      "  - krb5                                 1.21.2  heb0366b_0             conda-forge     Cached\n",
      "  - icu                                    73.2  h63175ca_0             conda-forge     Cached\n",
      "  - gst-plugins-base                     1.22.9  h001b923_0             conda-forge     Cached\n",
      "  - toml                                 0.10.2  pyhd8ed1ab_0           conda-forge     Cached\n",
      "  - sip                                  6.7.12  py312h53d5487_0        conda-forge     Cached\n",
      "  - six                                  1.16.0  pyh6c4a22f_0           conda-forge     Cached\n",
      "  - openjpeg                              2.5.2  h3d672ee_0             conda-forge     Cached\n",
      "  - libxcb                                 1.15  hcd874cb_0             conda-forge     Cached\n",
      "  - libwebp-base                          1.3.2  hcfcfb64_0             conda-forge     Cached\n",
      "  - lcms2                                  2.16  h67d730c_0             conda-forge     Cached\n",
      "  - freetype                             2.12.1  hdaf720e_2             conda-forge     Cached\n",
      "  - munkres                               1.1.4  pyh9f0ad1d_0           conda-forge     Cached\n",
      "  - brotli                                1.1.0  hcfcfb64_1             conda-forge     Cached\n",
      "  - numpy                                1.26.4  py312h8753938_0        conda-forge     Cached\n",
      "  - libxml2                              2.12.5  hc3477c8_0             conda-forge     Cached\n",
      "  - libclang13                           15.0.7  default_h85b4d89_4     conda-forge     Cached\n",
      "  - libvorbis                             1.3.7  h0e60522_0             conda-forge     Cached\n",
      "  - gstreamer                            1.22.9  hb4038d2_0             conda-forge     Cached\n",
      "  - tomli                                 2.0.1  pyhd8ed1ab_0           conda-forge     Cached\n",
      "  - ply                                    3.11  py_1                   conda-forge     Cached\n",
      "  - packaging                              23.2  pyhd8ed1ab_0           conda-forge     Cached\n",
      "  - xorg-libxdmcp                         1.1.3  hcd874cb_0             conda-forge     Cached\n",
      "  - xorg-libxau                          1.0.11  hcd874cb_0             conda-forge     Cached\n",
      "  - pthread-stubs                           0.4  hcd874cb_1001          conda-forge     Cached\n",
      "  - libtiff                               4.6.0  h6e2ebb7_2             conda-forge     Cached\n",
      "  - libpng                               1.6.43  h19919ed_0             conda-forge     Cached\n",
      "  - brotli-bin                            1.1.0  hcfcfb64_1             conda-forge     Cached\n",
      "  - python_abi                             3.12  4_cp312                conda-forge     Cached\n",
      "  - liblapack                             3.9.0  21_win64_mkl           conda-forge     Cached\n",
      "  - libcblas                              3.9.0  21_win64_mkl           conda-forge     Cached\n",
      "  - libogg                                1.3.4  h8ffe710_1             conda-forge     Cached\n",
      "  - glib                                 2.78.4  h12be248_4             conda-forge     Cached\n",
      "  - m2w64-gcc-libs                        5.3.0  7                      conda-forge     Cached\n",
      "  - zstd                                  1.5.5  h12be248_0             conda-forge     Cached\n",
      "  - libjpeg-turbo                         3.0.0  hcfcfb64_1             conda-forge     Cached\n",
      "  - libdeflate                             1.19  hcfcfb64_0             conda-forge     Cached\n",
      "  - lerc                                  4.0.0  h63175ca_0             conda-forge     Cached\n",
      "  - libbrotlienc                          1.1.0  hcfcfb64_1             conda-forge     Cached\n",
      "  - libbrotlidec                          1.1.0  hcfcfb64_1             conda-forge     Cached\n",
      "  - libblas                               3.9.0  21_win64_mkl           conda-forge     Cached\n",
      "  - pip                                    24.0  pyhd8ed1ab_0           conda-forge     Cached\n",
      "  - glib-tools                           2.78.4  h12be248_4             conda-forge     Cached\n",
      "  - m2w64-gcc-libgfortran                 5.3.0  6                      conda-forge     Cached\n",
      "  - libbrotlicommon                       1.1.0  hcfcfb64_1             conda-forge     Cached\n",
      "  - mkl                                2024.0.0  h66d3029_49657         conda-forge     Cached\n",
      "  - python                               3.12.2  h2628c8c_0_cpython     conda-forge     Cached\n",
      "  - libglib                              2.78.4  h39d0aa6_4             conda-forge     Cached\n",
      "  - m2w64-gcc-libs-core                   5.3.0  7                      conda-forge     Cached\n",
      "  - tbb                               2021.11.0  h91493d7_1             conda-forge     Cached\n",
      "  - intel-openmp                       2024.0.0  h57928b3_49841         conda-forge     Cached\n",
      "  - setuptools                           69.1.1  pyhd8ed1ab_0           conda-forge     Cached\n",
      "  - pcre2                                 10.43  h17e33f8_0             conda-forge     Cached\n",
      "  - gettext                              0.21.1  h5728263_0             conda-forge     Cached\n",
      "  - m2w64-libwinpthread-git  5.0.0.4634.697f757  2                      conda-forge     Cached\n",
      "  - m2w64-gmp                             6.1.0  2                      conda-forge     Cached\n",
      "  - libhwloc                              2.9.3  default_haede6df_1009  conda-forge     Cached\n",
      "  - wheel                                0.42.0  pyhd8ed1ab_0           conda-forge     Cached\n",
      "  - libiconv                               1.17  hcfcfb64_2             conda-forge     Cached\n",
      "  - msys2-conda-epoch                  20160418  1                      conda-forge     Cached\n",
      "  - pthreads-win32                        2.9.1  hfa6e2cd_3             conda-forge     Cached\n",
      "  - xz                                    5.2.6  h8d14728_0             conda-forge     Cached\n",
      "  - tzdata                                2024a  h0c530f3_0             conda-forge     Cached\n",
      "  - tk                                   8.6.13  h5226925_1             conda-forge     Cached\n",
      "  - openssl                               3.2.1  hcfcfb64_0             conda-forge     Cached\n",
      "  - libzlib                              1.2.13  hcfcfb64_5             conda-forge     Cached\n",
      "  - libsqlite                            3.45.1  hcfcfb64_0             conda-forge     Cached\n",
      "  - libffi                                3.4.2  h8ffe710_5             conda-forge     Cached\n",
      "  - libexpat                              2.6.1  h63175ca_0             conda-forge     Cached\n",
      "  - bzip2                                 1.0.8  hcfcfb64_5             conda-forge     Cached\n",
      "  - ca-certificates                    2024.2.2  h56e8100_0             conda-forge     Cached\n",
      "  - vs2015_runtime                  14.38.33130  hcb4865c_18            conda-forge     Cached\n",
      "  - vc                                     14.3  hcf57466_18            conda-forge     Cached\n",
      "  - vc14_runtime                    14.38.33130  h82b7239_18            conda-forge     Cached\n",
      "  - ucrt                           10.0.22621.0  h57928b3_0             conda-forge     Cached\n",
      "\n",
      "  Summary:\n",
      "\n",
      "  Remove: 92 packages\n",
      "\n",
      "  Total download: 0 B\n",
      "\n",
      "------------------------------------------------------------------------------------------------\n",
      "\n",
      "\n",
      "\n",
      "Transaction starting\n",
      "Unlinking matplotlib-3.8.3-py312h2e8e312_0\n",
      "Unlinking ncpol2sdpa-1.12.2-py_1\n",
      "Unlinking tornado-6.4-py312he70551f_0\n",
      "Unlinking pyqt-5.15.9-py312he09f080_5\n",
      "Unlinking matplotlib-base-3.8.3-py312h26ecaf7_0\n",
      "Unlinking sympy-1.12-pyh04b8f61_3\n",
      "Unlinking qt-main-5.15.8-h9e85ed6_19\n",
      "Unlinking pyqt5-sip-12.12.2-py312h53d5487_5\n",
      "Unlinking python-dateutil-2.9.0-pyhd8ed1ab_0\n",
      "Unlinking pyparsing-3.1.2-pyhd8ed1ab_0\n",
      "Unlinking pillow-10.2.0-py312he768995_0\n",
      "Unlinking kiwisolver-1.4.5-py312h0d7def4_1\n",
      "Unlinking fonttools-4.49.0-py312he70551f_0\n",
      "Unlinking cycler-0.12.1-pyhd8ed1ab_0\n",
      "Unlinking contourpy-1.2.0-py312h0d7def4_0\n",
      "Unlinking certifi-2024.2.2-pyhd8ed1ab_0\n",
      "Unlinking mpmath-1.3.0-pyhd8ed1ab_0\n",
      "Unlinking libclang-15.0.7-default_hde6756a_4\n",
      "Unlinking krb5-1.21.2-heb0366b_0\n",
      "Unlinking icu-73.2-h63175ca_0\n",
      "Unlinking gst-plugins-base-1.22.9-h001b923_0\n",
      "Unlinking toml-0.10.2-pyhd8ed1ab_0\n",
      "Unlinking sip-6.7.12-py312h53d5487_0\n",
      "Unlinking six-1.16.0-pyh6c4a22f_0\n",
      "Unlinking openjpeg-2.5.2-h3d672ee_0\n",
      "Unlinking libxcb-1.15-hcd874cb_0\n",
      "Unlinking libwebp-base-1.3.2-hcfcfb64_0\n",
      "Unlinking lcms2-2.16-h67d730c_0\n",
      "Unlinking freetype-2.12.1-hdaf720e_2\n",
      "Unlinking munkres-1.1.4-pyh9f0ad1d_0\n",
      "Unlinking brotli-1.1.0-hcfcfb64_1\n",
      "Unlinking numpy-1.26.4-py312h8753938_0\n",
      "Unlinking libxml2-2.12.5-hc3477c8_0\n",
      "Unlinking libclang13-15.0.7-default_h85b4d89_4\n",
      "Unlinking libvorbis-1.3.7-h0e60522_0\n",
      "Unlinking gstreamer-1.22.9-hb4038d2_0\n",
      "Unlinking tomli-2.0.1-pyhd8ed1ab_0\n",
      "Unlinking ply-3.11-py_1\n",
      "Unlinking packaging-23.2-pyhd8ed1ab_0\n",
      "Unlinking xorg-libxdmcp-1.1.3-hcd874cb_0\n",
      "Unlinking xorg-libxau-1.0.11-hcd874cb_0\n",
      "Unlinking pthread-stubs-0.4-hcd874cb_1001\n",
      "Unlinking libtiff-4.6.0-h6e2ebb7_2\n",
      "Unlinking libpng-1.6.43-h19919ed_0\n",
      "Unlinking brotli-bin-1.1.0-hcfcfb64_1\n",
      "Unlinking python_abi-3.12-4_cp312\n",
      "Unlinking liblapack-3.9.0-21_win64_mkl\n",
      "Unlinking libcblas-3.9.0-21_win64_mkl\n",
      "Unlinking libogg-1.3.4-h8ffe710_1\n",
      "Unlinking glib-2.78.4-h12be248_4\n",
      "Unlinking m2w64-gcc-libs-5.3.0-7\n",
      "Unlinking zstd-1.5.5-h12be248_0\n",
      "Unlinking libjpeg-turbo-3.0.0-hcfcfb64_1\n",
      "Unlinking libdeflate-1.19-hcfcfb64_0\n",
      "Unlinking lerc-4.0.0-h63175ca_0\n",
      "Unlinking libbrotlienc-1.1.0-hcfcfb64_1\n",
      "Unlinking libbrotlidec-1.1.0-hcfcfb64_1\n",
      "Unlinking libblas-3.9.0-21_win64_mkl\n",
      "Unlinking pip-24.0-pyhd8ed1ab_0\n",
      "Unlinking glib-tools-2.78.4-h12be248_4\n",
      "Unlinking m2w64-gcc-libgfortran-5.3.0-6\n",
      "Unlinking libbrotlicommon-1.1.0-hcfcfb64_1\n",
      "Unlinking mkl-2024.0.0-h66d3029_49657\n",
      "Unlinking python-3.12.2-h2628c8c_0_cpython\n",
      "Unlinking libglib-2.78.4-h39d0aa6_4\n",
      "Unlinking m2w64-gcc-libs-core-5.3.0-7\n",
      "Unlinking tbb-2021.11.0-h91493d7_1\n",
      "Unlinking intel-openmp-2024.0.0-h57928b3_49841\n",
      "Unlinking setuptools-69.1.1-pyhd8ed1ab_0\n",
      "Unlinking pcre2-10.43-h17e33f8_0\n",
      "Unlinking gettext-0.21.1-h5728263_0\n",
      "Unlinking m2w64-libwinpthread-git-5.0.0.4634.697f757-2\n",
      "Unlinking m2w64-gmp-6.1.0-2\n",
      "Unlinking libhwloc-2.9.3-default_haede6df_1009\n",
      "Unlinking wheel-0.42.0-pyhd8ed1ab_0\n",
      "Unlinking libiconv-1.17-hcfcfb64_2\n",
      "Unlinking msys2-conda-epoch-20160418-1\n",
      "Unlinking pthreads-win32-2.9.1-hfa6e2cd_3\n",
      "Unlinking xz-5.2.6-h8d14728_0\n",
      "Unlinking tzdata-2024a-h0c530f3_0\n",
      "Unlinking tk-8.6.13-h5226925_1\n",
      "Unlinking openssl-3.2.1-hcfcfb64_0\n",
      "Unlinking libzlib-1.2.13-hcfcfb64_5\n",
      "Unlinking libsqlite-3.45.1-hcfcfb64_0\n",
      "Unlinking libffi-3.4.2-h8ffe710_5\n",
      "Unlinking libexpat-2.6.1-h63175ca_0\n",
      "Unlinking bzip2-1.0.8-hcfcfb64_5\n",
      "Unlinking ca-certificates-2024.2.2-h56e8100_0\n",
      "Unlinking vs2015_runtime-14.38.33130-hcb4865c_18\n",
      "Unlinking vc-14.3-hcf57466_18\n",
      "Unlinking vc14_runtime-14.38.33130-h82b7239_18\n",
      "Unlinking ucrt-10.0.22621.0-h57928b3_0\n",
      "\n",
      "Transaction finished\n",
      "\n",
      "To activate this environment, use:\n",
      "\n",
      "    micromamba activate S:\\Sync\\University\\2023_MRP_2\\MRP2_WorkDir\\ABoxWorld\\.CondaPkg\\env\n",
      "\n",
      "Or to execute a single command in this environment, use:\n",
      "\n",
      "    micromamba run -p S:\\Sync\\University\\2023_MRP_2\\MRP2_WorkDir\\ABoxWorld\\.CondaPkg\\env mycommand\n",
      "\n"
     ]
    },
    {
     "name": "stderr",
     "output_type": "stream",
     "text": [
      "\u001b[32m\u001b[1m    CondaPkg \u001b[22m\u001b[39m\u001b[0mCreating environment\n",
      "\u001b[32m\u001b[1m             \u001b[22m\u001b[39m│ \u001b[90mC:\\Users\\trothe\\.julia\\artifacts\\4b87dc8b933ca2d289a392e264aaf44df2410f6f\\bin\\micromamba.exe\u001b[39m\n",
      "\u001b[32m\u001b[1m             \u001b[22m\u001b[39m│ \u001b[90m-r C:\\Users\\trothe\\.julia\\scratchspaces\\0b3b1443-0f03-428d-bdfb-f27f9c1191ea\\root\u001b[39m\n",
      "\u001b[32m\u001b[1m             \u001b[22m\u001b[39m│ \u001b[90mcreate\u001b[39m\n",
      "\u001b[32m\u001b[1m             \u001b[22m\u001b[39m│ \u001b[90m-y\u001b[39m\n",
      "\u001b[32m\u001b[1m             \u001b[22m\u001b[39m│ \u001b[90m-p s:\\Sync\\University\\2023_MRP_2\\MRP2_WorkDir\\ABoxWorld\\.CondaPkg\\env\u001b[39m\n",
      "\u001b[32m\u001b[1m             \u001b[22m\u001b[39m│ \u001b[90m--override-channels\u001b[39m\n",
      "\u001b[32m\u001b[1m             \u001b[22m\u001b[39m│ \u001b[90m--no-channel-priority\u001b[39m\n",
      "\u001b[32m\u001b[1m             \u001b[22m\u001b[39m│ \u001b[90mmatplotlib[version='>=1']\u001b[39m\n",
      "\u001b[32m\u001b[1m             \u001b[22m\u001b[39m│ \u001b[90mncpol2sdpa[version='*']\u001b[39m\n",
      "\u001b[32m\u001b[1m             \u001b[22m\u001b[39m│ \u001b[90mnumpy[version='*']\u001b[39m\n",
      "\u001b[32m\u001b[1m             \u001b[22m\u001b[39m│ \u001b[90mpip[version='>=22.0.0']\u001b[39m\n",
      "\u001b[32m\u001b[1m             \u001b[22m\u001b[39m│ \u001b[90mpython[version='>=3.7,<4',channel='conda-forge',build='*cpython*']\u001b[39m\n",
      "\u001b[32m\u001b[1m             \u001b[22m\u001b[39m└ \u001b[90m-c conda-forge\u001b[39m\n"
     ]
    },
    {
     "name": "stdout",
     "output_type": "stream",
     "text": [
      "\n",
      "Transaction\n",
      "\n",
      "  Prefix: S:\\Sync\\University\\2023_MRP_2\\MRP2_WorkDir\\ABoxWorld\\.CondaPkg\\env\n",
      "\n",
      "  Updating specs:\n",
      "\n",
      "   - matplotlib[version='>=1']\n",
      "   - ncpol2sdpa=*\n",
      "   - numpy=*\n",
      "   - pip[version='>=22.0.0']\n",
      "   - conda-forge::python[version='>=3.7,<4',build=*cpython*]\n",
      "\n",
      "\n",
      "  Package                               Version  Build                  Channel           Size\n",
      "------------------------------------------------------------------------------------------------\n",
      "  Install:\n",
      "------------------------------------------------------------------------------------------------\n",
      "\n",
      "  + python_abi                             3.12  4_cp312                conda-forge     Cached\n",
      "  + ucrt                           10.0.22621.0  h57928b3_0             conda-forge     Cached\n",
      "  + libexpat                              2.6.1  h63175ca_0             conda-forge     Cached\n",
      "  + ca-certificates                    2024.2.2  h56e8100_0             conda-forge     Cached\n",
      "  + intel-openmp                       2024.0.0  h57928b3_49841         conda-forge     Cached\n",
      "  + msys2-conda-epoch                  20160418  1                      conda-forge     Cached\n",
      "  + vc14_runtime                    14.38.33130  h82b7239_18            conda-forge     Cached\n",
      "  + m2w64-libwinpthread-git  5.0.0.4634.697f757  2                      conda-forge     Cached\n",
      "  + m2w64-gmp                             6.1.0  2                      conda-forge     Cached\n",
      "  + vs2015_runtime                  14.38.33130  hcb4865c_18            conda-forge     Cached\n",
      "  + vc                                     14.3  hcf57466_18            conda-forge     Cached\n",
      "  + m2w64-gcc-libs-core                   5.3.0  7                      conda-forge     Cached\n",
      "  + libbrotlicommon                       1.1.0  hcfcfb64_1             conda-forge     Cached\n",
      "  + libogg                                1.3.4  h8ffe710_1             conda-forge     Cached\n",
      "  + libiconv                               1.17  hcfcfb64_2             conda-forge     Cached\n",
      "  + libdeflate                             1.19  hcfcfb64_0             conda-forge     Cached\n",
      "  + lerc                                  4.0.0  h63175ca_0             conda-forge     Cached\n",
      "  + libjpeg-turbo                         3.0.0  hcfcfb64_1             conda-forge     Cached\n",
      "  + pthreads-win32                        2.9.1  hfa6e2cd_3             conda-forge     Cached\n",
      "  + libwebp-base                          1.3.2  hcfcfb64_0             conda-forge     Cached\n",
      "  + icu                                    73.2  h63175ca_0             conda-forge     Cached\n",
      "  + tk                                   8.6.13  h5226925_1             conda-forge     Cached\n",
      "  + libzlib                              1.2.13  hcfcfb64_5             conda-forge     Cached\n",
      "  + libffi                                3.4.2  h8ffe710_5             conda-forge     Cached\n",
      "  + bzip2                                 1.0.8  hcfcfb64_5             conda-forge     Cached\n",
      "  + openssl                               3.2.1  hcfcfb64_0             conda-forge     Cached\n",
      "  + libsqlite                            3.45.1  hcfcfb64_0             conda-forge     Cached\n",
      "  + xz                                    5.2.6  h8d14728_0             conda-forge     Cached\n",
      "  + m2w64-gcc-libgfortran                 5.3.0  6                      conda-forge     Cached\n",
      "  + libbrotlienc                          1.1.0  hcfcfb64_1             conda-forge     Cached\n",
      "  + libbrotlidec                          1.1.0  hcfcfb64_1             conda-forge     Cached\n",
      "  + libvorbis                             1.3.7  h0e60522_0             conda-forge     Cached\n",
      "  + gettext                              0.21.1  h5728263_0             conda-forge     Cached\n",
      "  + libpng                               1.6.43  h19919ed_0             conda-forge     Cached\n",
      "  + libxml2                              2.12.5  hc3477c8_0             conda-forge     Cached\n",
      "  + zstd                                  1.5.5  h12be248_0             conda-forge     Cached\n",
      "  + pcre2                                 10.43  h17e33f8_0             conda-forge     Cached\n",
      "  + krb5                                 1.21.2  heb0366b_0             conda-forge     Cached\n",
      "  + m2w64-gcc-libs                        5.3.0  7                      conda-forge     Cached\n",
      "  + brotli-bin                            1.1.0  hcfcfb64_1             conda-forge     Cached\n",
      "  + freetype                             2.12.1  hdaf720e_2             conda-forge     Cached\n",
      "  + libhwloc                              2.9.3  default_haede6df_1009  conda-forge     Cached\n",
      "  + libclang13                           15.0.7  default_h85b4d89_4     conda-forge     Cached\n",
      "  + libtiff                               4.6.0  h6e2ebb7_2             conda-forge     Cached\n",
      "  + libglib                              2.78.4  h39d0aa6_4             conda-forge     Cached\n",
      "  + xorg-libxdmcp                         1.1.3  hcd874cb_0             conda-forge     Cached\n",
      "  + pthread-stubs                           0.4  hcd874cb_1001          conda-forge     Cached\n",
      "  + xorg-libxau                          1.0.11  hcd874cb_0             conda-forge     Cached\n",
      "  + brotli                                1.1.0  hcfcfb64_1             conda-forge     Cached\n",
      "  + tbb                               2021.11.0  h91493d7_1             conda-forge     Cached\n",
      "  + libclang                             15.0.7  default_hde6756a_4     conda-forge     Cached\n",
      "  + openjpeg                              2.5.2  h3d672ee_0             conda-forge     Cached\n",
      "  + lcms2                                  2.16  h67d730c_0             conda-forge     Cached\n",
      "  + glib-tools                           2.78.4  h12be248_4             conda-forge     Cached\n",
      "  + libxcb                                 1.15  hcd874cb_0             conda-forge     Cached\n",
      "  + mkl                                2024.0.0  h66d3029_49657         conda-forge     Cached\n",
      "  + libblas                               3.9.0  21_win64_mkl           conda-forge     Cached\n",
      "  + libcblas                              3.9.0  21_win64_mkl           conda-forge     Cached\n",
      "  + liblapack                             3.9.0  21_win64_mkl           conda-forge     Cached\n",
      "  + tzdata                                2024a  h0c530f3_0             conda-forge     Cached\n",
      "  + python                               3.12.2  h2628c8c_0_cpython     conda-forge     Cached\n",
      "  + wheel                                0.42.0  pyhd8ed1ab_0           conda-forge     Cached\n",
      "  + setuptools                           69.1.1  pyhd8ed1ab_0           conda-forge     Cached\n",
      "  + pip                                    24.0  pyhd8ed1ab_0           conda-forge     Cached\n",
      "  + tomli                                 2.0.1  pyhd8ed1ab_0           conda-forge     Cached\n",
      "  + six                                  1.16.0  pyh6c4a22f_0           conda-forge     Cached\n",
      "  + mpmath                                1.3.0  pyhd8ed1ab_0           conda-forge     Cached\n",
      "  + munkres                               1.1.4  pyh9f0ad1d_0           conda-forge     Cached\n",
      "  + pyparsing                             3.1.2  pyhd8ed1ab_0           conda-forge     Cached\n",
      "  + cycler                               0.12.1  pyhd8ed1ab_0           conda-forge     Cached\n",
      "  + certifi                            2024.2.2  pyhd8ed1ab_0           conda-forge     Cached\n",
      "  + toml                                 0.10.2  pyhd8ed1ab_0           conda-forge     Cached\n",
      "  + ply                                    3.11  py_1                   conda-forge     Cached\n",
      "  + packaging                              23.2  pyhd8ed1ab_0           conda-forge     Cached\n",
      "  + python-dateutil                       2.9.0  pyhd8ed1ab_0           conda-forge     Cached\n",
      "  + sympy                                  1.12  pyh04b8f61_3           conda-forge     Cached\n",
      "  + glib                                 2.78.4  h12be248_4             conda-forge     Cached\n",
      "  + tornado                                 6.4  py312he70551f_0        conda-forge     Cached\n",
      "  + pillow                               10.2.0  py312he768995_0        conda-forge     Cached\n",
      "  + numpy                                1.26.4  py312h8753938_0        conda-forge     Cached\n",
      "  + kiwisolver                            1.4.5  py312h0d7def4_1        conda-forge     Cached\n",
      "  + fonttools                            4.49.0  py312he70551f_0        conda-forge     Cached\n",
      "  + sip                                  6.7.12  py312h53d5487_0        conda-forge     Cached\n",
      "  + gstreamer                            1.22.9  hb4038d2_0             conda-forge     Cached\n",
      "  + contourpy                             1.2.0  py312h0d7def4_0        conda-forge     Cached\n",
      "  + pyqt5-sip                           12.12.2  py312h53d5487_5        conda-forge     Cached\n",
      "  + gst-plugins-base                     1.22.9  h001b923_0             conda-forge     Cached\n",
      "  + matplotlib-base                       3.8.3  py312h26ecaf7_0        conda-forge     Cached\n",
      "  + qt-main                              5.15.8  h9e85ed6_19            conda-forge     Cached\n",
      "  + pyqt                                 5.15.9  py312he09f080_5        conda-forge     Cached\n",
      "  + matplotlib                            3.8.3  py312h2e8e312_0        conda-forge     Cached\n",
      "  + ncpol2sdpa                           1.12.2  py_1                   conda-forge     Cached\n",
      "\n",
      "  Summary:\n",
      "\n",
      "  Install: 92 packages\n",
      "\n",
      "  Total download: 0 B\n",
      "\n",
      "------------------------------------------------------------------------------------------------\n",
      "\n",
      "\n",
      "\n",
      "Transaction starting\n",
      "Linking python_abi-3.12-4_cp312\n",
      "Linking ucrt-10.0.22621.0-h57928b3_0\n",
      "Linking libexpat-2.6.1-h63175ca_0\n",
      "Linking ca-certificates-2024.2.2-h56e8100_0\n",
      "Linking intel-openmp-2024.0.0-h57928b3_49841\n",
      "Linking msys2-conda-epoch-20160418-1\n",
      "Linking vc14_runtime-14.38.33130-h82b7239_18\n",
      "Linking m2w64-libwinpthread-git-5.0.0.4634.697f757-2\n",
      "Linking m2w64-gmp-6.1.0-2\n",
      "Linking vs2015_runtime-14.38.33130-hcb4865c_18\n",
      "Linking vc-14.3-hcf57466_18\n",
      "Linking m2w64-gcc-libs-core-5.3.0-7\n",
      "Linking libbrotlicommon-1.1.0-hcfcfb64_1\n",
      "Linking libogg-1.3.4-h8ffe710_1\n",
      "Linking libiconv-1.17-hcfcfb64_2\n",
      "Linking libdeflate-1.19-hcfcfb64_0\n",
      "Linking lerc-4.0.0-h63175ca_0\n",
      "Linking libjpeg-turbo-3.0.0-hcfcfb64_1\n",
      "Linking pthreads-win32-2.9.1-hfa6e2cd_3\n",
      "Linking libwebp-base-1.3.2-hcfcfb64_0\n",
      "Linking icu-73.2-h63175ca_0\n",
      "Linking tk-8.6.13-h5226925_1\n",
      "Linking libzlib-1.2.13-hcfcfb64_5\n",
      "Linking libffi-3.4.2-h8ffe710_5\n",
      "Linking bzip2-1.0.8-hcfcfb64_5\n",
      "Linking openssl-3.2.1-hcfcfb64_0\n",
      "Linking libsqlite-3.45.1-hcfcfb64_0\n",
      "Linking xz-5.2.6-h8d14728_0\n",
      "Linking m2w64-gcc-libgfortran-5.3.0-6\n",
      "Linking libbrotlienc-1.1.0-hcfcfb64_1\n",
      "Linking libbrotlidec-1.1.0-hcfcfb64_1\n",
      "Linking libvorbis-1.3.7-h0e60522_0\n",
      "Linking gettext-0.21.1-h5728263_0\n",
      "Linking libpng-1.6.43-h19919ed_0\n",
      "Linking libxml2-2.12.5-hc3477c8_0\n",
      "Linking zstd-1.5.5-h12be248_0\n",
      "Linking pcre2-10.43-h17e33f8_0\n",
      "Linking krb5-1.21.2-heb0366b_0\n",
      "Linking m2w64-gcc-libs-5.3.0-7\n",
      "Linking brotli-bin-1.1.0-hcfcfb64_1\n",
      "Linking freetype-2.12.1-hdaf720e_2\n",
      "Linking libhwloc-2.9.3-default_haede6df_1009\n",
      "Linking libclang13-15.0.7-default_h85b4d89_4\n",
      "Linking libtiff-4.6.0-h6e2ebb7_2\n",
      "Linking libglib-2.78.4-h39d0aa6_4\n",
      "Linking xorg-libxdmcp-1.1.3-hcd874cb_0\n",
      "Linking pthread-stubs-0.4-hcd874cb_1001\n",
      "Linking xorg-libxau-1.0.11-hcd874cb_0\n",
      "Linking brotli-1.1.0-hcfcfb64_1\n",
      "Linking tbb-2021.11.0-h91493d7_1\n",
      "Linking libclang-15.0.7-default_hde6756a_4\n",
      "Linking openjpeg-2.5.2-h3d672ee_0\n",
      "Linking lcms2-2.16-h67d730c_0\n",
      "Linking glib-tools-2.78.4-h12be248_4\n",
      "Linking libxcb-1.15-hcd874cb_0\n",
      "Linking mkl-2024.0.0-h66d3029_49657\n",
      "Linking libblas-3.9.0-21_win64_mkl\n",
      "Linking libcblas-3.9.0-21_win64_mkl\n",
      "Linking liblapack-3.9.0-21_win64_mkl\n",
      "Linking tzdata-2024a-h0c530f3_0\n",
      "Linking python-3.12.2-h2628c8c_0_cpython\n",
      "Linking wheel-0.42.0-pyhd8ed1ab_0\n",
      "Linking setuptools-69.1.1-pyhd8ed1ab_0\n",
      "Linking pip-24.0-pyhd8ed1ab_0\n",
      "Linking tomli-2.0.1-pyhd8ed1ab_0\n",
      "Linking six-1.16.0-pyh6c4a22f_0\n",
      "Linking mpmath-1.3.0-pyhd8ed1ab_0\n",
      "Linking munkres-1.1.4-pyh9f0ad1d_0\n",
      "Linking pyparsing-3.1.2-pyhd8ed1ab_0\n",
      "Linking cycler-0.12.1-pyhd8ed1ab_0\n",
      "Linking certifi-2024.2.2-pyhd8ed1ab_0\n",
      "Linking toml-0.10.2-pyhd8ed1ab_0\n",
      "Linking ply-3.11-py_1\n",
      "Linking packaging-23.2-pyhd8ed1ab_0\n",
      "Linking python-dateutil-2.9.0-pyhd8ed1ab_0\n",
      "Linking sympy-1.12-pyh04b8f61_3\n",
      "Linking glib-2.78.4-h12be248_4\n",
      "Linking tornado-6.4-py312he70551f_0\n",
      "Linking pillow-10.2.0-py312he768995_0\n",
      "Linking numpy-1.26.4-py312h8753938_0\n",
      "Linking kiwisolver-1.4.5-py312h0d7def4_1\n",
      "Linking fonttools-4.49.0-py312he70551f_0\n",
      "Linking sip-6.7.12-py312h53d5487_0\n",
      "Linking gstreamer-1.22.9-hb4038d2_0\n",
      "Linking contourpy-1.2.0-py312h0d7def4_0\n",
      "Linking pyqt5-sip-12.12.2-py312h53d5487_5\n",
      "Linking gst-plugins-base-1.22.9-h001b923_0\n",
      "Linking matplotlib-base-3.8.3-py312h26ecaf7_0\n",
      "Linking qt-main-5.15.8-h9e85ed6_19\n",
      "Linking pyqt-5.15.9-py312he09f080_5\n",
      "Linking matplotlib-3.8.3-py312h2e8e312_0\n",
      "Linking ncpol2sdpa-1.12.2-py_1\n"
     ]
    },
    {
     "name": "stderr",
     "output_type": "stream",
     "text": [
      "\u001b[32m\u001b[1m    CondaPkg \u001b[22m\u001b[39m\u001b[0mInstalling Pip packages\n",
      "\u001b[32m\u001b[1m             \u001b[22m\u001b[39m│ \u001b[90ms:\\Sync\\University\\2023_MRP_2\\MRP2_WorkDir\\ABoxWorld\\.CondaPkg\\env\\Scripts\\pip.exe\u001b[39m\n",
      "\u001b[32m\u001b[1m             \u001b[22m\u001b[39m│ \u001b[90minstall\u001b[39m\n",
      "\u001b[32m\u001b[1m             \u001b[22m\u001b[39m│ \u001b[90mmosek\u001b[39m\n",
      "\u001b[32m\u001b[1m             \u001b[22m\u001b[39m│ \u001b[90mncpol2sdpa\u001b[39m\n",
      "\u001b[32m\u001b[1m             \u001b[22m\u001b[39m│ \u001b[90msdpa-python\u001b[39m\n",
      "\u001b[32m\u001b[1m             \u001b[22m\u001b[39m└ \u001b[90mtorch\u001b[39m\n"
     ]
    },
    {
     "name": "stdout",
     "output_type": "stream",
     "text": [
      "\n",
      "Transaction finished\n",
      "\n",
      "To activate this environment, use:\n",
      "\n",
      "    micromamba activate S:\\Sync\\University\\2023_MRP_2\\MRP2_WorkDir\\ABoxWorld\\.CondaPkg\\env\n",
      "\n",
      "Or to execute a single command in this environment, use:\n",
      "\n",
      "    micromamba run -p S:\\Sync\\University\\2023_MRP_2\\MRP2_WorkDir\\ABoxWorld\\.CondaPkg\\env mycommand\n",
      "\n",
      "Collecting mosek\n",
      "  Using cached Mosek-10.1.27-cp37-abi3-win_amd64.whl.metadata (715 bytes)\n",
      "Requirement already satisfied: ncpol2sdpa in s:\\sync\\university\\2023_mrp_2\\mrp2_workdir\\aboxworld\\.condapkg\\env\\lib\\site-packages (1.12.2)\n",
      "Collecting sdpa-python\n",
      "  Using cached sdpa_python-0.2.1-cp312-cp312-win_amd64.whl.metadata (4.2 kB)\n",
      "Collecting torch\n",
      "  Using cached torch-2.2.1-cp312-cp312-win_amd64.whl.metadata (26 kB)\n",
      "Requirement already satisfied: numpy in s:\\sync\\university\\2023_mrp_2\\mrp2_workdir\\aboxworld\\.condapkg\\env\\lib\\site-packages (from mosek) (1.26.4)\n",
      "Requirement already satisfied: sympy>=0.7.2 in s:\\sync\\university\\2023_mrp_2\\mrp2_workdir\\aboxworld\\.condapkg\\env\\lib\\site-packages (from ncpol2sdpa) (1.12)\n",
      "Collecting scipy>=1.1.0 (from sdpa-python)\n",
      "  Using cached scipy-1.12.0-cp312-cp312-win_amd64.whl.metadata (60 kB)\n",
      "Collecting filelock (from torch)\n",
      "  Using cached filelock-3.13.1-py3-none-any.whl.metadata (2.8 kB)\n",
      "Collecting typing-extensions>=4.8.0 (from torch)\n",
      "  Using cached typing_extensions-4.10.0-py3-none-any.whl.metadata (3.0 kB)\n",
      "Collecting networkx (from torch)\n",
      "  Using cached networkx-3.2.1-py3-none-any.whl.metadata (5.2 kB)\n",
      "Collecting jinja2 (from torch)\n",
      "  Using cached Jinja2-3.1.3-py3-none-any.whl.metadata (3.3 kB)\n",
      "Collecting fsspec (from torch)\n",
      "  Using cached fsspec-2024.2.0-py3-none-any.whl.metadata (6.8 kB)\n",
      "Requirement already satisfied: mpmath>=0.19 in s:\\sync\\university\\2023_mrp_2\\mrp2_workdir\\aboxworld\\.condapkg\\env\\lib\\site-packages (from sympy>=0.7.2->ncpol2sdpa) (1.3.0)\n",
      "Collecting MarkupSafe>=2.0 (from jinja2->torch)\n",
      "  Using cached MarkupSafe-2.1.5-cp312-cp312-win_amd64.whl.metadata (3.1 kB)\n",
      "Using cached Mosek-10.1.27-cp37-abi3-win_amd64.whl (19.4 MB)\n",
      "Using cached sdpa_python-0.2.1-cp312-cp312-win_amd64.whl (10.1 MB)\n",
      "Using cached torch-2.2.1-cp312-cp312-win_amd64.whl (198.5 MB)\n",
      "Using cached scipy-1.12.0-cp312-cp312-win_amd64.whl (45.8 MB)\n",
      "Using cached typing_extensions-4.10.0-py3-none-any.whl (33 kB)\n",
      "Using cached filelock-3.13.1-py3-none-any.whl (11 kB)\n",
      "Using cached fsspec-2024.2.0-py3-none-any.whl (170 kB)\n",
      "Using cached Jinja2-3.1.3-py3-none-any.whl (133 kB)\n",
      "Using cached networkx-3.2.1-py3-none-any.whl (1.6 MB)\n",
      "Using cached MarkupSafe-2.1.5-cp312-cp312-win_amd64.whl (17 kB)\n",
      "Installing collected packages: typing-extensions, scipy, networkx, mosek, MarkupSafe, fsspec, filelock, sdpa-python, jinja2, torch\n",
      "Successfully installed MarkupSafe-2.1.5 filelock-3.13.1 fsspec-2024.2.0 jinja2-3.1.3 mosek-10.1.27 networkx-3.2.1 scipy-1.12.0 sdpa-python-0.2.1 torch-2.2.1 typing-extensions-4.10.0\n"
     ]
    }
   ],
   "source": [
    "using Revise\n",
    "using DrWatson\n",
    "@quickactivate \"ABoxWorld\"\n",
    "include(srcdir(\"ABoxWorld.jl\"));"
   ]
  },
  {
   "cell_type": "code",
   "execution_count": 2,
   "metadata": {},
   "outputs": [],
   "source": [
    "using LinearAlgebra\n",
    "using Symbolics"
   ]
  },
  {
   "cell_type": "markdown",
   "metadata": {},
   "source": [
    "#### Computing and displaying extremal wirings: "
   ]
  },
  {
   "cell_type": "code",
   "execution_count": 3,
   "metadata": {},
   "outputs": [],
   "source": [
    "all_extremal_wires = hcat(values(collect_all_extremal_wires())...)\n",
    "nothing"
   ]
  },
  {
   "cell_type": "code",
   "execution_count": 4,
   "metadata": {},
   "outputs": [
    {
     "data": {
      "text/plain": [
       "(:A, :O)"
      ]
     },
     "metadata": {},
     "output_type": "display_data"
    }
   ],
   "source": [
    "collect(keys(collect_all_extremal_wires()))[rand(1:25)]"
   ]
  },
  {
   "cell_type": "code",
   "execution_count": 5,
   "metadata": {},
   "outputs": [
    {
     "data": {
      "text/plain": [
       "([1.0 1.0; 0.0 0.0; 1.0 1.0; 0.0 0.0;;; 1.0 1.0; 0.0 0.0; 1.0 1.0; 0.0 0.0], [0.0 0.0; 0.0 0.0;;; 1.0 1.0; 0.0 0.0;;;; 1.0 1.0; 0.0 0.0;;; 0.0 0.0; 1.0 1.0])"
      ]
     },
     "metadata": {},
     "output_type": "display_data"
    }
   ],
   "source": [
    "in1, out1 = wirings.in_out_split(collect_all_extremal_wires()[:X, :A][:,4])"
   ]
  },
  {
   "cell_type": "code",
   "execution_count": 6,
   "metadata": {},
   "outputs": [
    {
     "data": {
      "text/plain": [
       "([1.0 1.0; 0.0 0.0; 1.0 1.0; 0.0 0.0;;; 1.0 1.0; 0.0 0.0; 1.0 1.0; 0.0 0.0], [1.0 1.0; 0.0 0.0;;; 0.0 0.0; 0.0 0.0;;;; 0.0 0.0; 0.0 0.0;;; 1.0 1.0; 1.0 1.0])"
      ]
     },
     "metadata": {},
     "output_type": "display_data"
    }
   ],
   "source": [
    "in2, out2 = wirings.in_out_split(collect_all_extremal_wires()[:X, :A][:,8])"
   ]
  },
  {
   "cell_type": "code",
   "execution_count": 7,
   "metadata": {},
   "outputs": [
    {
     "name": "stdout",
     "output_type": "stream",
     "text": [
      "f_1(x,a2) = 1.0 \n",
      "g_1(y,b2) = 0\n",
      "f_2(x,a1) = 1.0 \n",
      "g_2(y,b1) = 0\n",
      "f_3(x,a1,a2) = a1 ⊕ a2\n",
      "g_3(y,b1,b2) = b1·b2\n"
     ]
    }
   ],
   "source": [
    "\n",
    "#wirings.print_functions_from_wires(all_extremal_wires[:,rand_idx])\n",
    "wirings.print_functions_from_wires(collect_all_extremal_wires()[:X, :A][:,4])"
   ]
  },
  {
   "cell_type": "markdown",
   "metadata": {},
   "source": [
    "#### Bechmarking different method of computing BoxProduct:"
   ]
  },
  {
   "cell_type": "code",
   "execution_count": 8,
   "metadata": {},
   "outputs": [
    {
     "name": "stdout",
     "output_type": "stream",
     "text": [
      "(q1, q2, (1.0 - q1) - q2) = (0.3, 0.05, 0.6499999999999999)\n"
     ]
    },
    {
     "data": {
      "text/plain": [
       "Main.wirings.Wiring((2, 2, 2, 2), [0, 0, 1, 1, 0, 0, 1, 1, 0, 0  …  1, 0, 0, 1, 1, 0, 0, 1, 1, 0])"
      ]
     },
     "metadata": {},
     "output_type": "display_data"
    }
   ],
   "source": [
    "using BenchmarkTools\n",
    "\n",
    "function double_noisy_PRBox(;q1, q2)\n",
    "    @assert 0.0 - 10*eps() <= q1 <= 1.0 + 10*eps() \n",
    "    @assert 0.0 - 10*eps() <= q2 <= 1.0 + 10*eps()\n",
    "    @assert q1 + q2 <= 1.0 + 100*eps()\n",
    "    @show q1, q2, 1.0-q1-q2\n",
    "    return (1.0-q1-q2)*CanonicalPRBox() + q1*LocalDeterministicBoxesCHSH(α=1, γ=0, β=0, λ=0) + q2*LocalDeterministicBoxesCHSH(α=1, γ=0, β=1, λ=0)\n",
    "    #return c2*extremal_noise_generator(;extremal_noise_params...) + (1-c1-c2)*UniformRandomBox(scenario)\n",
    "end\n",
    "\n",
    "double_noisy_testbox = double_noisy_PRBox(q1=0.3, q2=0.05)\n",
    "\n",
    "function W_BS09(n) # n is number of repetitions / batch size /copies of the wiring\n",
    "    W = [0.0, 0.0, 1.0, 1.0,  # f_1(x, a_2) = x\n",
    "         0.0, 0.0, 1.0, 1.0,  # g_1(y, b_2) = y\n",
    "         0.0, 0.0, 0.0, 1.0,  # f_2(x, a_1) = a_1*x\n",
    "         0.0, 0.0, 0.0, 1.0,  # g_2(y, b_1) = b_1*y\n",
    "         0.0, 1.0, 1.0, 0.0, 0.0, 1.0, 1.0, 0.0,  # f_3(x, a_1, a_2) = a_1 + a_2 mod 2\n",
    "         0.0, 1.0, 1.0, 0.0, 0.0, 1.0, 1.0, 0.0,] # g_3(y, b_1, b_2) = b_1 + b_2 mod 2\n",
    "\n",
    "    return repeat(W, outer=[1, n])\n",
    "end\n",
    "\n",
    "BS09_testwiring = wirings.Wiring((2,2,2,2), Int.(W_BS09(1))[:,1])\n"
   ]
  },
  {
   "cell_type": "markdown",
   "metadata": {},
   "source": [
    "#### Benchmark direct computation wiring"
   ]
  },
  {
   "cell_type": "code",
   "execution_count": 9,
   "metadata": {},
   "outputs": [
    {
     "name": "stdout",
     "output_type": "stream",
     "text": [
      "  153.600 μs (5392 allocations: 85.98 KiB)\n"
     ]
    },
    {
     "data": {
      "text/plain": [
       "2×2×2×2 Array{Float64, 4}:\n",
       "[:, :, 1, 1] =\n",
       " 0.56125  0.0\n",
       " 0.0      0.43875\n",
       "\n",
       "[:, :, 2, 1] =\n",
       " 0.4475   0.2275\n",
       " 0.11375  0.21125\n",
       "\n",
       "[:, :, 1, 2] =\n",
       " 0.53    0.03125\n",
       " 0.0325  0.40625\n",
       "\n",
       "[:, :, 2, 2] =\n",
       " 0.2375  0.4375\n",
       " 0.325   0.0"
      ]
     },
     "metadata": {},
     "output_type": "display_data"
    }
   ],
   "source": [
    "testbox_fulljoint = nsboxes.reconstructFullJoint(double_noisy_testbox)\n",
    "\n",
    "@btime direct_wired_box = wirings.direct_boxproduct(BS09_testwiring, testbox_fulljoint, testbox_fulljoint)\n",
    "#nsboxes.NSBox((2,2,2,2),direct_wired_box)"
   ]
  },
  {
   "cell_type": "markdown",
   "metadata": {},
   "source": [
    "#### Benchmark vectorized wiring product"
   ]
  },
  {
   "cell_type": "code",
   "execution_count": 10,
   "metadata": {},
   "outputs": [
    {
     "name": "stdout",
     "output_type": "stream",
     "text": [
      "  21.300 μs (530 allocations: 210.12 KiB)\n"
     ]
    },
    {
     "data": {
      "text/plain": [
       "2×2×2×2 Array{Float64, 4}:\n",
       "[:, :, 1, 1] =\n",
       " 0.56125  0.0\n",
       " 0.0      0.43875\n",
       "\n",
       "[:, :, 2, 1] =\n",
       " 0.4475   0.2275\n",
       " 0.11375  0.21125\n",
       "\n",
       "[:, :, 1, 2] =\n",
       " 0.53    0.03125\n",
       " 0.0325  0.40625\n",
       "\n",
       "[:, :, 2, 2] =\n",
       " 0.2375  0.4375\n",
       " 0.325   0.0"
      ]
     },
     "metadata": {},
     "output_type": "display_data"
    }
   ],
   "source": [
    "testtorchbox = wirings.convert_nsjoint_to_matrixbox(nsboxes.reconstructFullJoint(double_noisy_testbox))\n",
    "\n",
    "@btime wirings.vectorized_boxproduct(BS09_testwiring, testtorchbox, testtorchbox)\n",
    "#nsboxes.NSBox((2,2,2,2), Float64.(vect_wired_box))\t"
   ]
  },
  {
   "cell_type": "markdown",
   "metadata": {},
   "source": [
    "#### Benchmark tensorized code:"
   ]
  },
  {
   "cell_type": "code",
   "execution_count": 11,
   "metadata": {},
   "outputs": [
    {
     "name": "stdout",
     "output_type": "stream",
     "text": [
      "  73.000 μs (489 allocations: 57.72 KiB)\n"
     ]
    },
    {
     "data": {
      "text/plain": [
       "2×2×2×2×1 Array{Float64, 5}:\n",
       "[:, :, 1, 1, 1] =\n",
       " 0.56125  0.0\n",
       " 0.0      0.43875\n",
       "\n",
       "[:, :, 2, 1, 1] =\n",
       " 0.4475   0.2275\n",
       " 0.11375  0.21125\n",
       "\n",
       "[:, :, 1, 2, 1] =\n",
       " 0.53    0.03125\n",
       " 0.0325  0.40625\n",
       "\n",
       "[:, :, 2, 2, 1] =\n",
       " 0.2375  0.4375\n",
       " 0.325   0.0"
      ]
     },
     "metadata": {},
     "output_type": "display_data"
    }
   ],
   "source": [
    "testmatrixbox = wirings.convert_nsjoint_to_matrixbox(nsboxes.reconstructFullJoint(double_noisy_testbox))\n",
    "\n",
    "@btime wirings.tensorized_boxproduct(reshape(BS09_testwiring.wires, :, 1), testmatrixbox, testmatrixbox)\n",
    "#NSBox((2,2,2,2), Float64.(tensor_wired_box))\t"
   ]
  },
  {
   "cell_type": "markdown",
   "metadata": {},
   "source": [
    "#### Benchmark pycall torch code:"
   ]
  },
  {
   "cell_type": "code",
   "execution_count": 12,
   "metadata": {},
   "outputs": [
    {
     "data": {
      "text/plain": [
       "Python: 'include(S:\\\\Sync\\\\University\\\\2023_MRP_2\\\\MRP2_WorkDir\\\\ABoxWorld\\\\src\\\\AlgebraOfBoxesPy\\\\evaluate.py)'"
      ]
     },
     "metadata": {},
     "output_type": "display_data"
    }
   ],
   "source": [
    "using PythonCall\n",
    "\n",
    "\n",
    "#py\"import AlgebraOfBoxesPy\"\n",
    "#@pyinclude(\"./AlgebraOfBoxesPy/utils.py\") #ALready taken care of by evaluate.py \n",
    "ABP_eval = PythonCall.@py \"\"\"include($(srcdir(\"AlgebraOfBoxesPy\\\\evaluate.py\")))\"\"\"\n"
   ]
  },
  {
   "cell_type": "code",
   "execution_count": 21,
   "metadata": {},
   "outputs": [
    {
     "name": "stdout",
     "output_type": "stream",
     "text": [
      "  823.200 μs (1 allocation: 16 bytes)\n"
     ]
    },
    {
     "data": {
      "text/plain": [
       "Python: 'BoxProduct(tensor([[0.],\\n        [0.],\\n        [1.],\\n        [1.],\\n        [0.],\\n        [0.],\\n        [1.],\\n        [1.],\\n        [0.],\\n        [0.],\\n        [0.],\\n        [1.],\\n        [0.],\\n        [0.],\\n        [0.],\\n        [1.],\\n        [0.],\\n        [1.],\\n        [1.],\\n        [0.],\\n        [0.],\\n        [1.],\\n        [1.],\\n        [0.],\\n        [0.],\\n        [1.],\\n        [1.],\\n        [0.],\\n        [0.],\\n        [1.],\\n        [1.],\\n        [0.]], dtype=torch.float64, requires_grad=True), tensor([[[[0.6750, 0.6250],\\n          [0.3250, 0.0000]],\\n\\n         [[0.0000, 0.0500],\\n          [0.0000, 0.3250]]],\\n\\n\\n        [[[0.0000, 0.0000],\\n          [0.3500, 0.6250]],\\n\\n         [[0.3250, 0.3250],\\n          [0.3250, 0.0500]]]], dtype=torch.float64), tensor([[[[0.6750, 0.6250],\\n          [0.3250, 0.0000]],\\n\\n         [[0.0000, 0.0500],\\n          [0.0000, 0.3250]]],\\n\\n\\n        [[[0.0000, 0.0000],\\n          [0.3500, 0.6250]],\\n\\n         [[0.3250, 0.3250],\\n          [0.3250, 0.0500]]]], dtype=torch.float64)).detach().numpy()'"
      ]
     },
     "metadata": {},
     "output_type": "display_data"
    }
   ],
   "source": [
    "testbox_fulljoint = nsboxes.reconstructFullJoint(double_noisy_testbox)\n",
    "n=1\n",
    "W_torchvec = repeat(BS09_testwiring.wires, outer=[1, n])\n",
    "\n",
    "\n",
    "#norm_count_mat = zeros(Int, 4, 4)\n",
    "#for (a,b) in Iterators.product(0:1, 0:1)\n",
    "#    for (x,y) in Iterators.product(0:1, 0:1)\n",
    "#        norm_count_mat[2*x+y+1, 2*a+b+1] += (10*(y+1) + (x+1))\n",
    "#    end\n",
    "#end\n",
    "# py\"\"\"PR_tensor = matrix_to_tensor(torch.tensor($norm_count_mat, dtype=torch.float64)).detach().numpy()\"\"\"\n",
    "\n",
    "\n",
    "torch = pyimport(\"torch\")\n",
    "BoxProduct = @py \"\"\"def BoxProduct(W,P,Q): return R_tensor(W,P,Q)[:,:,:,:,0]\"\"\"\n",
    "\n",
    "tensorised_torchtestbox = torch.tensor(Py(testbox_fulljoint).to_numpy(), dtype=torch.float64)\n",
    "tensorised_BS09_testwiring = torch.tensor(Py(W_torchvec).to_numpy(), dtype=torch.float64, requires_grad=true)\n",
    "\n",
    "\n",
    "#py\"\"\"P = BoxProduct(tensorised_BS09_testwiring, tensorised_torchtestbox, tensorised_torchtestbox)\"\"\"\n",
    "BoxProduct = @btime (@py \"\"\"BoxProduct($tensorised_BS09_testwiring, $tensorised_torchtestbox, $tensorised_torchtestbox).detach().numpy()\"\"\")\n"
   ]
  },
  {
   "cell_type": "code",
   "execution_count": 48,
   "metadata": {},
   "outputs": [
    {
     "name": "stderr",
     "output_type": "stream",
     "text": [
      "┌ Info: Average time: NaN seconds\n",
      "└ @ Main s:\\Sync\\University\\2023_MRP_2\\MRP2_WorkDir\\ABoxWorld\\test\\BenchmarkWirings.ipynb:10\n"
     ]
    }
   ],
   "source": [
    "timeit = pyimport(\"timeit\")\n",
    "@show \n",
    "\n",
    "# benchmark the task\n",
    "#result = timeit.timeit(\"\"\"R_tensor($(Py(tensorised_BS09_testwiring)), $(Py(tensorised_torchtestbox)), $(Py(tensorised_torchtestbox)))[:,:,:,:,0]\"\"\", setup=\"\"\"include($(Py(srcdir(\"AlgebraOfBoxesPy\\\\evaluate.py\"))))\"\"\", number=10)\n",
    "# calculate the average\n",
    "#average_result = pyconvert(Float64, result) / 10\n",
    "# report the result\n",
    "average_result = NaN\n",
    "@info \"Average time: $average_result seconds\"\n"
   ]
  }
 ],
 "metadata": {
  "kernelspec": {
   "display_name": "Julia 1.10.2",
   "language": "julia",
   "name": "julia-1.10"
  },
  "language_info": {
   "file_extension": ".jl",
   "mimetype": "application/julia",
   "name": "julia",
   "version": "1.10.2"
  }
 },
 "nbformat": 4,
 "nbformat_minor": 2
}
