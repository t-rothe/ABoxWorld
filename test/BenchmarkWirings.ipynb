{
 "cells": [
  {
   "cell_type": "code",
   "execution_count": 1,
   "metadata": {},
   "outputs": [
    {
     "name": "stderr",
     "output_type": "stream",
     "text": [
      "┌ Info: ABoxWorld project environment is loaded and active\n",
      "└ @ Main s:\\Sync\\University\\2023_MRP_2\\MRP2_WorkDir\\ABoxWorld\\src\\ABoxWorld.jl:10\n"
     ]
    }
   ],
   "source": [
    "using Revise\n",
    "using DrWatson\n",
    "@quickactivate \"ABoxWorld\"\n",
    "include(srcdir(\"ABoxWorld.jl\"));"
   ]
  },
  {
   "cell_type": "code",
   "execution_count": 2,
   "metadata": {},
   "outputs": [],
   "source": [
    "using LinearAlgebra\n",
    "using Symbolics"
   ]
  },
  {
   "cell_type": "code",
   "execution_count": 4,
   "metadata": {},
   "outputs": [
    {
     "name": "stdout",
     "output_type": "stream",
     "text": [
      "wires = [0.0, 0.0, 1.0, 1.0, 0.0, 0.0, 1.0, 1.0, 1.0, 0.0, 0.0, 1.0, 0.0, 0.0, 0.0, 1.0, 1.0, 0.0, 0.0, 1.0, 1.0, 0.0, 0.0, 1.0, 1.0, 0.0, 0.0, 1.0, 1.0, 0.0, 0.0, 1.0]\n",
      "f_1(x,a2) = x\n",
      "g_1(y,b2) = y\n",
      "f_2(x,a1) = -1.0 x ⊕ -1.0 a1 ⊕ 1.0 \n",
      "g_2(y,b1) = y·b1\n",
      "f_3(x,a1,a2) = -1.0 a1 ⊕ -1.0 a2 ⊕ 1.0 \n",
      "g_3(y,b1,b2) = -1.0 b1 ⊕ -1.0 b2 ⊕ 1.0 \n"
     ]
    }
   ],
   "source": [
    "single_wiring = Allcock2009_wires()\n",
    "wirings.print_functions_from_wires(single_wiring)"
   ]
  },
  {
   "cell_type": "markdown",
   "metadata": {},
   "source": [
    "#### Computing and displaying extremal wirings: "
   ]
  },
  {
   "cell_type": "code",
   "execution_count": 3,
   "metadata": {},
   "outputs": [
    {
     "name": "stdout",
     "output_type": "stream",
     "text": [
      "File existed. Loading extremal wirings from file: s:\\Sync\\University\\2023_MRP_2\\MRP2_WorkDir\\ABoxWorld\\data\\ExtremalWires\\extremal_wires_CHSH.jls\n"
     ]
    },
    {
     "data": {
      "text/plain": [
       "Dict{Any, Any} with 45212176 entries:\n",
       "  ((:S, :S), ((α = 0, β = … => [1.0, 1.0, 1.0, 1.0, 1.0, 1.0, 1.0, 1.0, 0.0, 1.…\n",
       "  ((:S, :S), ((α = 1, β = … => [0.0, 0.0, 0.0, 0.0, 0.0, 0.0, 0.0, 0.0, 0.0, 0.…\n",
       "  ((:O, :S), ((α = 0, β = … => [0.0, 0.0, 0.0, 0.0, 1.0, 1.0, 1.0, 1.0, 0.0, 0.…\n",
       "  ((:S, :X), ((α = 1, β = … => [1.0, 1.0, 1.0, 1.0, 1.0, 1.0, 1.0, 1.0, 0.0, 0.…\n",
       "  ((:D, :S), ((α = 1,), (α… => [0.0, 0.0, 0.0, 0.0, 0.0, 0.0, 0.0, 0.0, 0.0, 0.…\n",
       "  ((:S, :S), ((α = 1, β = … => [0.0, 0.0, 0.0, 0.0, 0.0, 0.0, 0.0, 0.0, 1.0, 1.…\n",
       "  ((:X, :O), ((α = 1, β = … => [0.0, 0.0, 0.0, 0.0, 1.0, 1.0, 1.0, 1.0, 0.0, 0.…\n",
       "  ((:O, :A), ((α = 1, β = … => [0.0, 0.0, 0.0, 0.0, 1.0, 1.0, 1.0, 1.0, 0.0, 0.…\n",
       "  ((:A, :S), ((α = 0, β = … => [0.0, 0.0, 0.0, 0.0, 0.0, 0.0, 0.0, 0.0, 0.0, 0.…\n",
       "  ((:A, :S), ((α = 0, β = … => [0.0, 0.0, 0.0, 0.0, 0.0, 0.0, 0.0, 0.0, 1.0, 1.…\n",
       "  ((:O, :A), ((α = 0, β = … => [1.0, 1.0, 1.0, 1.0, 1.0, 1.0, 1.0, 1.0, 1.0, 1.…\n",
       "  ((:A, :A), ((α = 1, β = … => [0.0, 0.0, 0.0, 0.0, 0.0, 0.0, 0.0, 0.0, 1.0, 1.…\n",
       "  ((:A, :A), ((α = 0, β = … => [0.0, 0.0, 0.0, 0.0, 1.0, 1.0, 1.0, 1.0, 1.0, 1.…\n",
       "  ((:O, :S), ((α = 0, β = … => [1.0, 1.0, 1.0, 1.0, 0.0, 0.0, 0.0, 0.0, 0.0, 0.…\n",
       "  ((:A, :O), ((α = 1, β = … => [1.0, 1.0, 1.0, 1.0, 0.0, 0.0, 0.0, 0.0, 1.0, 1.…\n",
       "  ((:S, :S), ((α = 1, β = … => [0.0, 0.0, 0.0, 0.0, 1.0, 1.0, 1.0, 1.0, 0.0, 0.…\n",
       "  ((:X, :A), ((α = 1, β = … => [0.0, 0.0, 0.0, 0.0, 0.0, 0.0, 0.0, 0.0, 1.0, 1.…\n",
       "  ((:S, :S), ((α = 1, β = … => [0.0, 0.0, 0.0, 0.0, 1.0, 1.0, 1.0, 1.0, 0.0, 0.…\n",
       "  ((:O, :S), ((α = 0, β = … => [1.0, 1.0, 1.0, 1.0, 0.0, 0.0, 0.0, 0.0, 0.0, 0.…\n",
       "  ⋮                         => ⋮"
      ]
     },
     "metadata": {},
     "output_type": "display_data"
    }
   ],
   "source": [
    "ew = collect_all_extremal_wires()"
   ]
  },
  {
   "cell_type": "code",
   "execution_count": 4,
   "metadata": {},
   "outputs": [
    {
     "data": {
      "text/plain": [
       "Dict{Any, Any}"
      ]
     },
     "metadata": {},
     "output_type": "display_data"
    }
   ],
   "source": [
    "typeof(ew)"
   ]
  },
  {
   "cell_type": "code",
   "execution_count": 7,
   "metadata": {},
   "outputs": [],
   "source": [
    "hv = []\n",
    "for k in keys(ew)\n",
    "    push!(hv, hash(ew[k]))\n",
    "end"
   ]
  },
  {
   "cell_type": "code",
   "execution_count": 5,
   "metadata": {},
   "outputs": [
    {
     "data": {
      "text/plain": [
       "([1.0 1.0; 0.0 0.0; 1.0 1.0; 0.0 0.0;;; 1.0 1.0; 0.0 0.0; 1.0 1.0; 0.0 0.0], [0.0 0.0; 0.0 0.0;;; 1.0 1.0; 0.0 0.0;;;; 1.0 1.0; 0.0 0.0;;; 0.0 0.0; 1.0 1.0])"
      ]
     },
     "metadata": {},
     "output_type": "display_data"
    }
   ],
   "source": [
    "in1, out1 = wirings.in_out_split(collect_all_extremal_wires()[:X, :A][:,4])"
   ]
  },
  {
   "cell_type": "code",
   "execution_count": 6,
   "metadata": {},
   "outputs": [
    {
     "data": {
      "text/plain": [
       "([1.0 1.0; 0.0 0.0; 1.0 1.0; 0.0 0.0;;; 1.0 1.0; 0.0 0.0; 1.0 1.0; 0.0 0.0], [1.0 1.0; 0.0 0.0;;; 0.0 0.0; 0.0 0.0;;;; 0.0 0.0; 0.0 0.0;;; 1.0 1.0; 1.0 1.0])"
      ]
     },
     "metadata": {},
     "output_type": "display_data"
    }
   ],
   "source": [
    "in2, out2 = wirings.in_out_split(collect_all_extremal_wires()[:X, :A][:,8])"
   ]
  },
  {
   "cell_type": "code",
   "execution_count": 7,
   "metadata": {},
   "outputs": [
    {
     "name": "stdout",
     "output_type": "stream",
     "text": [
      "f_1(x,a2) = 1.0 \n",
      "g_1(y,b2) = 0\n",
      "f_2(x,a1) = 1.0 \n",
      "g_2(y,b1) = 0\n",
      "f_3(x,a1,a2) = a1 ⊕ a2\n",
      "g_3(y,b1,b2) = b1·b2\n"
     ]
    }
   ],
   "source": [
    "\n",
    "#wirings.print_functions_from_wires(all_extremal_wires[:,rand_idx])\n",
    "wirings.print_functions_from_wires(collect_all_extremal_wires()[:X, :A][:,4])"
   ]
  },
  {
   "cell_type": "code",
   "execution_count": null,
   "metadata": {},
   "outputs": [],
   "source": []
  },
  {
   "cell_type": "markdown",
   "metadata": {},
   "source": [
    "#### Bechmarking different method of computing BoxProduct:"
   ]
  },
  {
   "cell_type": "code",
   "execution_count": 8,
   "metadata": {},
   "outputs": [
    {
     "name": "stdout",
     "output_type": "stream",
     "text": [
      "(q1, q2, (1.0 - q1) - q2) = (0.3, 0.05, 0.6499999999999999)\n"
     ]
    },
    {
     "data": {
      "text/plain": [
       "Main.wirings.Wiring((2, 2, 2, 2), [0, 0, 1, 1, 0, 0, 1, 1, 0, 0  …  1, 0, 0, 1, 1, 0, 0, 1, 1, 0])"
      ]
     },
     "metadata": {},
     "output_type": "display_data"
    }
   ],
   "source": [
    "using BenchmarkTools\n",
    "\n",
    "function double_noisy_PRBox(;q1, q2)\n",
    "    @assert 0.0 - 10*eps() <= q1 <= 1.0 + 10*eps() \n",
    "    @assert 0.0 - 10*eps() <= q2 <= 1.0 + 10*eps()\n",
    "    @assert q1 + q2 <= 1.0 + 100*eps()\n",
    "    @show q1, q2, 1.0-q1-q2\n",
    "    return (1.0-q1-q2)*CanonicalPRBox() + q1*LocalDeterministicBoxesCHSH(α=1, γ=0, β=0, λ=0) + q2*LocalDeterministicBoxesCHSH(α=1, γ=0, β=1, λ=0)\n",
    "    #return c2*extremal_noise_generator(;extremal_noise_params...) + (1-c1-c2)*UniformRandomBox(scenario)\n",
    "end\n",
    "\n",
    "double_noisy_testbox = double_noisy_PRBox(q1=0.3, q2=0.05)\n",
    "\n",
    "function W_BS09(n) # n is number of repetitions / batch size /copies of the wiring\n",
    "    W = [0.0, 0.0, 1.0, 1.0,  # f_1(x, a_2) = x\n",
    "         0.0, 0.0, 1.0, 1.0,  # g_1(y, b_2) = y\n",
    "         0.0, 0.0, 0.0, 1.0,  # f_2(x, a_1) = a_1*x\n",
    "         0.0, 0.0, 0.0, 1.0,  # g_2(y, b_1) = b_1*y\n",
    "         0.0, 1.0, 1.0, 0.0, 0.0, 1.0, 1.0, 0.0,  # f_3(x, a_1, a_2) = a_1 + a_2 mod 2\n",
    "         0.0, 1.0, 1.0, 0.0, 0.0, 1.0, 1.0, 0.0,] # g_3(y, b_1, b_2) = b_1 + b_2 mod 2\n",
    "\n",
    "    return repeat(W, outer=[1, n])\n",
    "end\n",
    "\n",
    "BS09_testwiring = wirings.Wiring((2,2,2,2), Int.(W_BS09(1))[:,1])\n"
   ]
  },
  {
   "cell_type": "markdown",
   "metadata": {},
   "source": [
    "#### Benchmark direct computation wiring"
   ]
  },
  {
   "cell_type": "code",
   "execution_count": 9,
   "metadata": {},
   "outputs": [
    {
     "name": "stdout",
     "output_type": "stream",
     "text": [
      "  153.600 μs (5392 allocations: 85.98 KiB)\n"
     ]
    },
    {
     "data": {
      "text/plain": [
       "2×2×2×2 Array{Float64, 4}:\n",
       "[:, :, 1, 1] =\n",
       " 0.56125  0.0\n",
       " 0.0      0.43875\n",
       "\n",
       "[:, :, 2, 1] =\n",
       " 0.4475   0.2275\n",
       " 0.11375  0.21125\n",
       "\n",
       "[:, :, 1, 2] =\n",
       " 0.53    0.03125\n",
       " 0.0325  0.40625\n",
       "\n",
       "[:, :, 2, 2] =\n",
       " 0.2375  0.4375\n",
       " 0.325   0.0"
      ]
     },
     "metadata": {},
     "output_type": "display_data"
    }
   ],
   "source": [
    "testbox_fulljoint = nsboxes.reconstructFullJoint(double_noisy_testbox)\n",
    "\n",
    "@btime direct_wired_box = wirings.direct_boxproduct(BS09_testwiring, testbox_fulljoint, testbox_fulljoint)\n",
    "#nsboxes.NSBox((2,2,2,2),direct_wired_box)"
   ]
  },
  {
   "cell_type": "markdown",
   "metadata": {},
   "source": [
    "#### Benchmark vectorized wiring product"
   ]
  },
  {
   "cell_type": "code",
   "execution_count": 10,
   "metadata": {},
   "outputs": [
    {
     "name": "stdout",
     "output_type": "stream",
     "text": [
      "  21.300 μs (530 allocations: 210.12 KiB)\n"
     ]
    },
    {
     "data": {
      "text/plain": [
       "2×2×2×2 Array{Float64, 4}:\n",
       "[:, :, 1, 1] =\n",
       " 0.56125  0.0\n",
       " 0.0      0.43875\n",
       "\n",
       "[:, :, 2, 1] =\n",
       " 0.4475   0.2275\n",
       " 0.11375  0.21125\n",
       "\n",
       "[:, :, 1, 2] =\n",
       " 0.53    0.03125\n",
       " 0.0325  0.40625\n",
       "\n",
       "[:, :, 2, 2] =\n",
       " 0.2375  0.4375\n",
       " 0.325   0.0"
      ]
     },
     "metadata": {},
     "output_type": "display_data"
    }
   ],
   "source": [
    "testtorchbox = wirings.convert_nsjoint_to_matrixbox(nsboxes.reconstructFullJoint(double_noisy_testbox))\n",
    "\n",
    "@btime wirings.vectorized_boxproduct(BS09_testwiring, testtorchbox, testtorchbox)\n",
    "#nsboxes.NSBox((2,2,2,2), Float64.(vect_wired_box))\t"
   ]
  },
  {
   "cell_type": "markdown",
   "metadata": {},
   "source": [
    "#### Benchmark tensorized code:"
   ]
  },
  {
   "cell_type": "code",
   "execution_count": 11,
   "metadata": {},
   "outputs": [
    {
     "name": "stdout",
     "output_type": "stream",
     "text": [
      "  73.000 μs (489 allocations: 57.72 KiB)\n"
     ]
    },
    {
     "data": {
      "text/plain": [
       "2×2×2×2×1 Array{Float64, 5}:\n",
       "[:, :, 1, 1, 1] =\n",
       " 0.56125  0.0\n",
       " 0.0      0.43875\n",
       "\n",
       "[:, :, 2, 1, 1] =\n",
       " 0.4475   0.2275\n",
       " 0.11375  0.21125\n",
       "\n",
       "[:, :, 1, 2, 1] =\n",
       " 0.53    0.03125\n",
       " 0.0325  0.40625\n",
       "\n",
       "[:, :, 2, 2, 1] =\n",
       " 0.2375  0.4375\n",
       " 0.325   0.0"
      ]
     },
     "metadata": {},
     "output_type": "display_data"
    }
   ],
   "source": [
    "testmatrixbox = wirings.convert_nsjoint_to_matrixbox(nsboxes.reconstructFullJoint(double_noisy_testbox))\n",
    "\n",
    "@btime wirings.tensorized_boxproduct(reshape(BS09_testwiring.wires, :, 1), testmatrixbox, testmatrixbox)\n",
    "#NSBox((2,2,2,2), Float64.(tensor_wired_box))\t"
   ]
  },
  {
   "cell_type": "markdown",
   "metadata": {},
   "source": [
    "#### Benchmark pycall torch code:"
   ]
  },
  {
   "cell_type": "code",
   "execution_count": 12,
   "metadata": {},
   "outputs": [
    {
     "data": {
      "text/plain": [
       "Python: 'include(S:\\\\Sync\\\\University\\\\2023_MRP_2\\\\MRP2_WorkDir\\\\ABoxWorld\\\\src\\\\AlgebraOfBoxesPy\\\\evaluate.py)'"
      ]
     },
     "metadata": {},
     "output_type": "display_data"
    }
   ],
   "source": [
    "using PythonCall\n",
    "\n",
    "\n",
    "#py\"import AlgebraOfBoxesPy\"\n",
    "#@pyinclude(\"./AlgebraOfBoxesPy/utils.py\") #ALready taken care of by evaluate.py \n",
    "ABP_eval = PythonCall.@py \"\"\"include($(srcdir(\"AlgebraOfBoxesPy\\\\evaluate.py\")))\"\"\"\n"
   ]
  },
  {
   "cell_type": "code",
   "execution_count": 21,
   "metadata": {},
   "outputs": [
    {
     "name": "stdout",
     "output_type": "stream",
     "text": [
      "  823.200 μs (1 allocation: 16 bytes)\n"
     ]
    },
    {
     "data": {
      "text/plain": [
       "Python: 'BoxProduct(tensor([[0.],\\n        [0.],\\n        [1.],\\n        [1.],\\n        [0.],\\n        [0.],\\n        [1.],\\n        [1.],\\n        [0.],\\n        [0.],\\n        [0.],\\n        [1.],\\n        [0.],\\n        [0.],\\n        [0.],\\n        [1.],\\n        [0.],\\n        [1.],\\n        [1.],\\n        [0.],\\n        [0.],\\n        [1.],\\n        [1.],\\n        [0.],\\n        [0.],\\n        [1.],\\n        [1.],\\n        [0.],\\n        [0.],\\n        [1.],\\n        [1.],\\n        [0.]], dtype=torch.float64, requires_grad=True), tensor([[[[0.6750, 0.6250],\\n          [0.3250, 0.0000]],\\n\\n         [[0.0000, 0.0500],\\n          [0.0000, 0.3250]]],\\n\\n\\n        [[[0.0000, 0.0000],\\n          [0.3500, 0.6250]],\\n\\n         [[0.3250, 0.3250],\\n          [0.3250, 0.0500]]]], dtype=torch.float64), tensor([[[[0.6750, 0.6250],\\n          [0.3250, 0.0000]],\\n\\n         [[0.0000, 0.0500],\\n          [0.0000, 0.3250]]],\\n\\n\\n        [[[0.0000, 0.0000],\\n          [0.3500, 0.6250]],\\n\\n         [[0.3250, 0.3250],\\n          [0.3250, 0.0500]]]], dtype=torch.float64)).detach().numpy()'"
      ]
     },
     "metadata": {},
     "output_type": "display_data"
    }
   ],
   "source": [
    "testbox_fulljoint = nsboxes.reconstructFullJoint(double_noisy_testbox)\n",
    "n=1\n",
    "W_torchvec = repeat(BS09_testwiring.wires, outer=[1, n])\n",
    "\n",
    "\n",
    "#norm_count_mat = zeros(Int, 4, 4)\n",
    "#for (a,b) in Iterators.product(0:1, 0:1)\n",
    "#    for (x,y) in Iterators.product(0:1, 0:1)\n",
    "#        norm_count_mat[2*x+y+1, 2*a+b+1] += (10*(y+1) + (x+1))\n",
    "#    end\n",
    "#end\n",
    "# py\"\"\"PR_tensor = matrix_to_tensor(torch.tensor($norm_count_mat, dtype=torch.float64)).detach().numpy()\"\"\"\n",
    "\n",
    "\n",
    "torch = pyimport(\"torch\")\n",
    "BoxProduct = @py \"\"\"def BoxProduct(W,P,Q): return R_tensor(W,P,Q)[:,:,:,:,0]\"\"\"\n",
    "\n",
    "tensorised_torchtestbox = torch.tensor(Py(testbox_fulljoint).to_numpy(), dtype=torch.float64)\n",
    "tensorised_BS09_testwiring = torch.tensor(Py(W_torchvec).to_numpy(), dtype=torch.float64, requires_grad=true)\n",
    "\n",
    "\n",
    "#py\"\"\"P = BoxProduct(tensorised_BS09_testwiring, tensorised_torchtestbox, tensorised_torchtestbox)\"\"\"\n",
    "BoxProduct = @btime (@py \"\"\"BoxProduct($tensorised_BS09_testwiring, $tensorised_torchtestbox, $tensorised_torchtestbox).detach().numpy()\"\"\")\n"
   ]
  },
  {
   "cell_type": "code",
   "execution_count": 48,
   "metadata": {},
   "outputs": [
    {
     "name": "stderr",
     "output_type": "stream",
     "text": [
      "┌ Info: Average time: NaN seconds\n",
      "└ @ Main s:\\Sync\\University\\2023_MRP_2\\MRP2_WorkDir\\ABoxWorld\\test\\BenchmarkWirings.ipynb:10\n"
     ]
    }
   ],
   "source": [
    "timeit = pyimport(\"timeit\")\n",
    "@show \n",
    "\n",
    "# benchmark the task\n",
    "#result = timeit.timeit(\"\"\"R_tensor($(Py(tensorised_BS09_testwiring)), $(Py(tensorised_torchtestbox)), $(Py(tensorised_torchtestbox)))[:,:,:,:,0]\"\"\", setup=\"\"\"include($(Py(srcdir(\"AlgebraOfBoxesPy\\\\evaluate.py\"))))\"\"\", number=10)\n",
    "# calculate the average\n",
    "#average_result = pyconvert(Float64, result) / 10\n",
    "# report the result\n",
    "average_result = NaN\n",
    "@info \"Average time: $average_result seconds\"\n"
   ]
  }
 ],
 "metadata": {
  "kernelspec": {
   "display_name": "Julia 1.10.2",
   "language": "julia",
   "name": "julia-1.10"
  },
  "language_info": {
   "file_extension": ".jl",
   "mimetype": "application/julia",
   "name": "julia",
   "version": "1.10.2"
  }
 },
 "nbformat": 4,
 "nbformat_minor": 2
}
