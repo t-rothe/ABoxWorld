{
 "cells": [
  {
   "cell_type": "code",
   "execution_count": 1,
   "metadata": {},
   "outputs": [
    {
     "name": "stderr",
     "output_type": "stream",
     "text": [
      "┌ Info: ABoxWorld project environment is loaded and active\n",
      "└ @ Main s:\\Sync\\University\\2023_MRP_2\\MRP2_WorkDir\\ABoxWorld\\src\\ABoxWorld_core.jl:7\n"
     ]
    }
   ],
   "source": [
    "using Revise\n",
    "using DrWatson\n",
    "@quickactivate \"ABoxWorld\"\n",
    "include(srcdir(\"ABoxWorld.jl\"));"
   ]
  },
  {
   "cell_type": "code",
   "execution_count": 2,
   "metadata": {},
   "outputs": [],
   "source": [
    "using LinearAlgebra\n",
    "using Symbolics"
   ]
  },
  {
   "cell_type": "markdown",
   "metadata": {},
   "source": [
    "### Creating NS Boxes\n",
    "Defining a specific NS Box can be achieved in different ways.  <br>\n",
    "As an interesting example beyond the CHSH scenerio, we consider a singlet in the 2233 scenerio. (see Collins et al, 2002, 10.1103/PhysRevLett.88.040404) <p> \n",
    "**Collins-Gisin (table) representation**"
   ]
  },
  {
   "cell_type": "code",
   "execution_count": 3,
   "metadata": {},
   "outputs": [
    {
     "data": {
      "text/plain": [
       "Main.nsboxes.NSBox((2, 2, 3, 3), [0.3333333333333333, 0.3333333333333333, 0.3333333333333333, 0.3333333333333333], [0.3333333333333333, 0.3333333333333333, 0.3333333333333333, 0.3333333333333333], [0.27644820796806496 0.037037037037037035 0.27644820796806496 0.27644820796806496; 0.019848088328231317 0.27644820796806496 0.037037037037037035 0.27644820796806496; 0.037037037037037035 0.27644820796806496 0.27644820796806496 0.037037037037037035; 0.019848088328231317 0.037037037037037035 0.019848088328231317 0.27644820796806496])"
      ]
     },
     "metadata": {},
     "output_type": "display_data"
    }
   ],
   "source": [
    "d=3 #Number of outcomes for each party\n",
    "test_scenario = (2,2,d,d) #Scenario of the NSBox: (M_A, M_B, m_A, m_B) : M: number of measurement settings, m: number of outcomes per measurement\n",
    "\n",
    "test_marginals_A =  [1/3, 1/3,  1/3, 1/3]\n",
    "test_marginals_B =  [1/3, 1/3,  1/3, 1/3]\n",
    "test_joint_mat = [(2/27*(2+sqrt(3)))        1/27                (2/27*(2+sqrt(3)))   (2/27*(2+sqrt(3)))  ; \n",
    "                  (2/27*(2-sqrt(3)))    (2/27*(2+sqrt(3)))            1/27           (2/27*(2+sqrt(3)))  ; \n",
    "    \t                1/27            (2/27*(2+sqrt(3)))      (2/27*(2+sqrt(3)))         1/27          ; \n",
    "                  (2/27*(2-sqrt(3)))        1/27                (2/27*(2-sqrt(3)))   (2/27*(2+sqrt(3)))  ]\n",
    "\n",
    "test_nsbox = nsboxes.NSBox(scenario=test_scenario,\n",
    "                    marginals_vec_A=test_marginals_A,\n",
    "                    marginals_vec_B=test_marginals_B,\n",
    "                   joints_mat=test_joint_mat,\n",
    "                   )\n",
    "\n",
    "#test_nsbox = NSBox(scenario=(2,2,3,3), \n",
    "#                    marginals_vec_A=[0.1, 0.2, 0.3, 0.4],\n",
    "#                    marginals_vec_B=[0.1, 0.2, 0.3, 0.4],\n",
    "#                    joints_mat=[0.05 0.05 0.05 0.05; 0.05 0.05 0.05 0.05; 0.05 0.05 0.05 0.05; 0.05 0.05 0.05 0.05])\n"
   ]
  },
  {
   "cell_type": "markdown",
   "metadata": {},
   "source": [
    "**Full Joint Distributions P(a,b|x,y)**"
   ]
  },
  {
   "cell_type": "code",
   "execution_count": 4,
   "metadata": {},
   "outputs": [
    {
     "data": {
      "text/plain": [
       "3×3×2×2 Array{Float64, 4}:\n",
       "[:, :, 1, 1] =\n",
       " 0.276448   0.037037   0.0198481\n",
       " 0.0198481  0.276448   0.037037\n",
       " 0.037037   0.0198481  0.276448\n",
       "\n",
       "[:, :, 2, 1] =\n",
       " 0.037037   0.276448   0.0198481\n",
       " 0.0198481  0.037037   0.276448\n",
       " 0.276448   0.0198481  0.037037\n",
       "\n",
       "[:, :, 1, 2] =\n",
       " 0.276448   0.0198481  0.037037\n",
       " 0.037037   0.276448   0.0198481\n",
       " 0.0198481  0.037037   0.276448\n",
       "\n",
       "[:, :, 2, 2] =\n",
       " 0.276448   0.037037   0.0198481\n",
       " 0.0198481  0.276448   0.037037\n",
       " 0.037037   0.0198481  0.276448"
      ]
     },
     "metadata": {},
     "output_type": "display_data"
    },
    {
     "data": {
      "text/plain": [
       "Main.nsboxes.NSBox((2, 2, 3, 3), [0.3333333333333334, 0.3333333333333334, 0.3333333333333334, 0.3333333333333334], [0.3333333333333334, 0.3333333333333334, 0.3333333333333334, 0.3333333333333334], [0.2764482079680651 0.03703703703703705 0.2764482079680651 0.01984808832823131; 0.01984808832823131 0.2764482079680651 0.03703703703703705 0.2764482079680651; 0.03703703703703705 0.2764482079680651 0.2764482079680651 0.03703703703703705; 0.01984808832823131 0.03703703703703705 0.01984808832823131 0.2764482079680651])"
      ]
     },
     "metadata": {},
     "output_type": "display_data"
    }
   ],
   "source": [
    "d=3 #Number of outcomes for each party\n",
    "test_scenerio = (2,2,d,d)\n",
    "\n",
    "#The following is eq. (14) from 10.1103/PhysRevLett.88.040404\n",
    "alpha, beta = (0, 1/2), (1/4, -1/4)\n",
    "P_abxy_maxEntangled =  Array{Float64}(undef, d, d, 2, 2)\n",
    "for a in 0:d-1\n",
    "    for b in 0:d-1\n",
    "        for x in 1:2\n",
    "            for y in 1:2\n",
    "                P_abxy_maxEntangled[a+1,b+1,x,y] = 1/(2*d^3*sin((pi*(a-b+alpha[x]+beta[y]))/d)^2)\n",
    "            end\n",
    "        end\n",
    "    end\n",
    "end\n",
    "\n",
    "display(P_abxy_maxEntangled)\n",
    "\n",
    "test_nsbox = nsboxes.NSBox(test_scenerio,\n",
    "                    P_abxy_maxEntangled)\n"
   ]
  },
  {
   "cell_type": "markdown",
   "metadata": {},
   "source": [
    "Even if you create an NSBox from a full joint distribution $P(a,b|x,y)$, it is automatically converted into the more efficient CG represention. So if you need to get the full distribution back, you need to reconstruct it:"
   ]
  },
  {
   "cell_type": "code",
   "execution_count": 5,
   "metadata": {},
   "outputs": [
    {
     "data": {
      "text/plain": [
       "3×3×2×2 Array{Float64, 4}:\n",
       "[:, :, 1, 1] =\n",
       " 0.0          0.0           6.93889e-18\n",
       " 0.0          0.0          -1.38778e-17\n",
       " 6.93889e-18  6.93889e-18  -2.77556e-16\n",
       "\n",
       "[:, :, 2, 1] =\n",
       " 0.0          0.0           6.93889e-18\n",
       " 0.0          0.0           0.0\n",
       " 6.66134e-16  6.93889e-18  -2.91434e-16\n",
       "\n",
       "[:, :, 1, 2] =\n",
       " 0.0           0.0           6.93889e-18\n",
       " 0.0           0.0           6.93889e-18\n",
       " 6.93889e-18  -1.38778e-17  -2.77556e-16\n",
       "\n",
       "[:, :, 2, 2] =\n",
       " 0.0          0.0           6.93889e-18\n",
       " 0.0          0.0          -1.38778e-17\n",
       " 6.93889e-18  6.93889e-18  -2.77556e-16"
      ]
     },
     "metadata": {},
     "output_type": "display_data"
    }
   ],
   "source": [
    "\n",
    "reconstruction = nsboxes.reconstructFullJoint(test_nsbox)\n",
    "display(reconstruction - P_abxy_maxEntangled)"
   ]
  },
  {
   "cell_type": "markdown",
   "metadata": {},
   "source": [
    "Conveniently, we can compute and represent (convex) mixtures of (different) NS boxes by using simple multiplication and addition operators. Make sure to use a normalized set of coefficients between 0.0 and 1.0."
   ]
  },
  {
   "cell_type": "code",
   "execution_count": 6,
   "metadata": {},
   "outputs": [
    {
     "data": {
      "text/plain": [
       "Main.nsboxes.NSBox((2, 2, 3, 3), [0.3333333333333335, 0.3333333333333335, 0.3333333333333335, 0.3333333333333335], [0.3333333333333335, 0.3333333333333335, 0.3333333333333335, 0.3333333333333335], [0.27644820796806513 0.03703703703703705 0.27644820796806513 0.01984808832823131; 0.01984808832823131 0.27644820796806513 0.03703703703703705 0.27644820796806513; 0.03703703703703705 0.27644820796806513 0.27644820796806513 0.03703703703703705; 0.01984808832823131 0.03703703703703705 0.01984808832823131 0.27644820796806513])"
      ]
     },
     "metadata": {},
     "output_type": "display_data"
    }
   ],
   "source": [
    "ubox = 0.2*test_nsbox + 0.8*test_nsbox"
   ]
  },
  {
   "cell_type": "markdown",
   "metadata": {},
   "source": [
    "To minimize look-up of commonly used NS Boxes, some specific NS boxes can be created from convenience functions. <br>\n",
    "Consider, for example, the canonical PR-boxes for the CHSH or any other (2,2,d,d) scenario:"
   ]
  },
  {
   "cell_type": "code",
   "execution_count": 7,
   "metadata": {},
   "outputs": [
    {
     "data": {
      "text/plain": [
       "Main.nsboxes.NSBox((2, 2, 6, 6), [0.16666666666666666, 0.16666666666666666, 0.16666666666666666, 0.16666666666666666, 0.16666666666666666, 0.16666666666666666, 0.16666666666666666, 0.16666666666666666, 0.16666666666666666, 0.16666666666666666], [0.16666666666666666, 0.16666666666666666, 0.16666666666666666, 0.16666666666666666, 0.16666666666666666, 0.16666666666666666, 0.16666666666666666, 0.16666666666666666, 0.16666666666666666, 0.16666666666666666], [0.16666666666666666 0.0 … 0.0 0.0; 0.0 0.16666666666666666 … 0.0 0.0; … ; 0.0 0.0 … 0.0 0.0; 0.0 0.0 … 0.16666666666666666 0.0])"
      ]
     },
     "metadata": {},
     "output_type": "display_data"
    }
   ],
   "source": [
    "UniformRandomBox((2,2,3,3))\n",
    "MaxEntangledBoxCHSH() #Only for CHSH scenario\n",
    "\n",
    "CanonicalPRBox() #Canoncal PR box in CHSH scenario\n",
    "CanonicalPRBox(d=6) #Canoncal PR box in any (2,2,d,d) scenario, e.g. (2,2,6,6)\n",
    "\n",
    "#display(reconstructFullJoint(CanonicalPRBox(2)))"
   ]
  },
  {
   "cell_type": "markdown",
   "metadata": {},
   "source": [
    "#### Families of NS Boxes"
   ]
  },
  {
   "cell_type": "markdown",
   "metadata": {},
   "source": [
    "Families of NS Boxes are parameterizations of NS Boxes _within a specific scenerio_.\n",
    "<p>\n",
    "Also families of boxes can be easily created. Also here, you might either parameterize the joint distributions P(a,b|x,y) or the CG representation thereof, whatever seems more convenient. <p>\n",
    "First define a custom function (called the \"generator\") that takes only keyword arguments, those correspond to the parameters of the NSBox family. Also make sure that your function always returns a NSBox instance!"
   ]
  },
  {
   "cell_type": "code",
   "execution_count": 8,
   "metadata": {},
   "outputs": [
    {
     "data": {
      "text/plain": [
       "generator_fun (generic function with 1 method)"
      ]
     },
     "metadata": {},
     "output_type": "display_data"
    }
   ],
   "source": [
    "function generator_fun(;p1, p2) #Generates NSBox instances, given some named parameters p1 and p2 (= keyword arguments!)\n",
    "    return p1*CanonicalPRBox() + p2*UniformRandomBox((2,2,3,3))\n",
    "end\n"
   ]
  },
  {
   "cell_type": "markdown",
   "metadata": {},
   "source": [
    "You could work low-level with those generator functions. However, the basic operations that can be performed on NSBox instances don't work for generator functions. Therefore, you may want to make working with parameterized NS Boxes more convenient by embedding the generator function into a so-called NSBoxFamily instance. "
   ]
  },
  {
   "cell_type": "code",
   "execution_count": 9,
   "metadata": {},
   "outputs": [
    {
     "data": {
      "text/plain": [
       "Main.nsboxes.NSBoxFamily((2, 2, 2, 2), (p1, p2), Main.nsboxes.var\"#safe_generator#15\"{Main.nsboxes.var\"#safe_generator#13#16\"{typeof(generator_fun)}}(Main.nsboxes.var\"#safe_generator#13#16\"{typeof(generator_fun)}(generator_fun)))"
      ]
     },
     "metadata": {},
     "output_type": "display_data"
    }
   ],
   "source": [
    "@variables p1, p2\n",
    "ns_box_fam = nsboxes.NSBoxFamily((2,2,2,2), (p1, p2), generator_fun) #Creates a family of NSBoxes with parameters p1 and p2\n"
   ]
  },
  {
   "cell_type": "markdown",
   "metadata": {},
   "source": [
    "Consequently, the feature-set and notation for working with those objects are almost equivalent to NSBox instances. \n",
    "<br>\n",
    "Convex mixtures, for example, also work for PRBoxFamilies:"
   ]
  },
  {
   "cell_type": "code",
   "execution_count": 10,
   "metadata": {},
   "outputs": [
    {
     "ename": "UndefVarError",
     "evalue": "UndefVarError: `nsbox_fam_1` not defined",
     "output_type": "error",
     "traceback": [
      "UndefVarError: `nsbox_fam_1` not defined\n",
      "\n",
      "Stacktrace:\n",
      " [1] top-level scope\n",
      "   @ s:\\Sync\\University\\2023_MRP_2\\MRP2_WorkDir\\ABoxWorld\\test\\First_Steps.ipynb:2"
     ]
    }
   ],
   "source": [
    "# As before, you can now do things like additon on NSBox families!\n",
    "nsbox_fam_1 = \n",
    "nsbox_fam_2 =\n",
    "mixed_fam = 0.5*nsbox_fam_1 + 0.5*nsbox_fam_2"
   ]
  },
  {
   "cell_type": "markdown",
   "metadata": {},
   "source": [
    "Of course, also the most common types of NSBox families already have some convenient implementation, both as a generator function as well as a NSBoxFamily instance. So those don't need to be defined again. Note that families are always restricted to a specific scenerio, mostly the CHSH (2,2,2,2) scenerio!  "
   ]
  },
  {
   "cell_type": "code",
   "execution_count": 11,
   "metadata": {},
   "outputs": [
    {
     "data": {
      "text/plain": [
       "Main.nsboxes.NSBoxFamily((2, 2, 2, 2), (ρ,), Main.nsboxes.var\"#safe_generator#15\"{Main.nsboxes.var\"#safe_generator#13#16\"{typeof(IsotropicBoxesCHSH)}}(Main.nsboxes.var\"#safe_generator#13#16\"{typeof(IsotropicBoxesCHSH)}(IsotropicBoxesCHSH)))"
      ]
     },
     "metadata": {},
     "output_type": "display_data"
    }
   ],
   "source": [
    "#If you need local deterministic boxes for arbitrary scenarios:\n",
    "test_scenario = (2,2,3,3)\n",
    "test_generator = getLocalDeterministicBoxGenerator(test_scenario) #Retrieve a generator for local deterministic boxes in the given scenario\n",
    "\n",
    "test_generator(;θ_a = [0 0;1 1], θ_b = [1 2; 1 2]) #Create some specific Local Deterministic NSBox. e.g. With a Dictionary: x=0, y=0 -> a=0, b=0; x=0, y=1 -> a=0, b=1; x=1, y=0 -> a=1, b=0; x=1, y=1 -> a=1, b=1\n",
    "@variables θ_a[1:2,1:2], θ_b[1:2,1:2]\n",
    "nsboxes.NSBoxFamily(test_scenario, (θ_a, θ_b), test_generator) #Define a NSBoxFamily on your own\n",
    "LocalDeterministicBoxFamily(test_scenario) #Retrieve the (exact same) NSBoxFamily from a convenience function\n",
    "\n",
    "\n",
    "#If you only need local deterministic boxes for the CHSH scenario, prefer for efficiency:\n",
    "LocalDeterministicBoxesCHSH # The (fixed) generator function with parameters α, γ, β, λ ∈ {0,1}\n",
    "LocalDeterministicBoxesCHSH(α=0, γ=0, β=0, λ=0) #Create a specific Local Deterministic NSBox from the generator function\n",
    "@variables α, γ, β, λ\n",
    "nsboxes.NSBoxFamily((2,2,2,2), (α, γ, β, λ), LocalDeterministicBoxesCHSH) #Define a NSBoxFamily on your own\n",
    "LocalDeterministicBoxesCHSH_family() #Retrieve the (exact same) NSBoxFamily from a convenience function\n",
    "\n",
    "\n",
    "#All 4 PR boxes in the CHSH scenario are equally accessible as:\n",
    "PRBoxesCHSH # The (fixed) generator function with parameters μ, ν, σ ∈ {0,1}\n",
    "PRBoxesCHSH(μ=0, ν=0, σ=0) #Create a specific PR NSBox from the generator function\n",
    "@variables μ, ν, σ\n",
    "nsboxes.NSBoxFamily((2,2,2,2), (μ, ν, σ), PRBoxesCHSH) #Define a NSBoxFamily on your own\n",
    "PRBoxesCHSH_family() #Retrieve the (exact same) NSBoxFamily from a convenience function\n",
    "\n",
    "#Istropic boxes (= mix of perfect PR Box and Uniform Random Box) in CHSH:\n",
    "IsotropicBoxesCHSH # The (fixed) generator function with parameters p ∈ [0,1]\n",
    "IsotropicBoxesCHSH(ρ=0.5) #Create a specific Isotropic NSBox from the generator function\n",
    "@variables ρ\n",
    "nsboxes.NSBoxFamily((2,2,2,2), (ρ, ), IsotropicBoxesCHSH) #Define a NSBoxFamily on your own\n",
    "IsotropicBoxesCHSH_family() #Retrieve the (exact same) NSBoxFamily from a convenience function"
   ]
  },
  {
   "cell_type": "markdown",
   "metadata": {},
   "source": [
    "### Mixing NS Boxes"
   ]
  },
  {
   "cell_type": "markdown",
   "metadata": {},
   "source": [
    "If we have multiple NS Boxes given, we might want to combine them by taking their convex mixture. This can be achieved by multiplication and addition and it works for both specific NS boxes and families of NS boxes: <br>"
   ]
  },
  {
   "cell_type": "code",
   "execution_count": 12,
   "metadata": {},
   "outputs": [
    {
     "data": {
      "text/plain": [
       "Main.nsboxes.NSBox((2, 2, 2, 2), [0.6000000000000001, 0.6000000000000001], [0.6000000000000001, 0.6000000000000001], [0.4 0.4; 0.4 0.4])"
      ]
     },
     "metadata": {},
     "output_type": "display_data"
    }
   ],
   "source": [
    "box1 = LocalDeterministicBoxesCHSH(α=0, γ=0, β=0, λ=0)\n",
    "box2 = UniformRandomBox((2,2,2,2))\n",
    "p1, p2 = 0.2, 0.8\n",
    "mixedbox = p1*box1 + p2*box2"
   ]
  },
  {
   "cell_type": "markdown",
   "metadata": {},
   "source": [
    "Make sure that the coefficients $p_i$ initialize a convex mixture ($p_i\\geq 0$ and $\\sum_{i} p_i = 1$), otherwise the addition operator will throw an exception:"
   ]
  },
  {
   "cell_type": "code",
   "execution_count": 13,
   "metadata": {},
   "outputs": [
    {
     "ename": "AssertionError",
     "evalue": "AssertionError: abs((coeff_1 + coeff_2) - 1.0) < global_eps_tol",
     "output_type": "error",
     "traceback": [
      "AssertionError: abs((coeff_1 + coeff_2) - 1.0) < global_eps_tol\n",
      "\n",
      "Stacktrace:\n",
      " [1] +(ProbabilityNSBoxPair_1::Pair{Main.nsboxes.NSBox, Float64}, ProbabilityNSBoxPair_2::Pair{Main.nsboxes.NSBox, Float64})\n",
      "   @ Main.nsboxes s:\\Sync\\University\\2023_MRP_2\\MRP2_WorkDir\\ABoxWorld\\src\\nsboxes.jl:200\n",
      " [2] top-level scope\n",
      "   @ s:\\Sync\\University\\2023_MRP_2\\MRP2_WorkDir\\ABoxWorld\\test\\First_Steps.ipynb:2"
     ]
    }
   ],
   "source": [
    "p, q = 0.2, 0.4\n",
    "mixedbox = p*box1 + q*box2\n",
    "\n",
    "#NOTE: The following error is thus intended as a demo!"
   ]
  },
  {
   "cell_type": "code",
   "execution_count": 14,
   "metadata": {},
   "outputs": [
    {
     "data": {
      "text/plain": [
       "Main.nsboxes.NSBox((2, 2, 2, 2), [0.75, 0.75], [0.75, 0.75], [0.75 0.75; 0.75 0.5])"
      ]
     },
     "metadata": {},
     "output_type": "display_data"
    }
   ],
   "source": [
    "0.5*CanonicalPRBox() + 0.5*LocalDeterministicBoxesCHSH(α=0, γ=0, β=0, λ=0)"
   ]
  },
  {
   "cell_type": "markdown",
   "metadata": {},
   "source": [
    "You can also mix more than two NSBoxes. Also you can mix NSBoxes and NSBoxFamilies together to whatever degree you like:"
   ]
  },
  {
   "cell_type": "code",
   "execution_count": 15,
   "metadata": {},
   "outputs": [
    {
     "data": {
      "text/plain": [
       "Main.nsboxes.NSBox((2, 2, 2, 2), [0.55, 0.55], [0.55, 0.55], [0.4 0.4; 0.4 0.25])"
      ]
     },
     "metadata": {},
     "output_type": "display_data"
    }
   ],
   "source": [
    "function getNoisyPRBoxGenerator(extremal_noise_generator; extremal_noise_params...)\n",
    "    scenario = (2,2,2,2)\n",
    "    @assert extremal_noise_generator ∈ [LocalDeterministicBoxesCHSH, PRBoxesCHSH]\n",
    "    function noisy_PRBox_generator(;c1::Float64, c2::Float64)\n",
    "        #@show typeof(c1), typeof(c2), typeof(c1 + c2)\n",
    "        @assert 0.0 - 10*eps() <= c1 <= 1.0 + 10*eps() \"Got c1=$c1, but c1 must be in [0,1]!\"\n",
    "        @assert 0.0 - 10*eps() <= c2 <= 1.0 + 10*eps() \"Got c2=$c2, but c2 must be in [0,1]!\"\n",
    "        @assert c1 + c2 <= 1.0 + 100*eps() \"Got c1+c2=$(c1+c2), but c1 + c2 should not exceed 1.0!\"\n",
    "        return c1*CanonicalPRBox() + c2*extremal_noise_generator(;extremal_noise_params...) + (1.0-c1-c2)*UniformRandomBox(scenario)\n",
    "        #return c2*extremal_noise_generator(;extremal_noise_params...) + (1-c1-c2)*UniformRandomBox(scenario)\n",
    "    end\n",
    "    return noisy_PRBox_generator\n",
    "end\n",
    "\n",
    "#LocalDeterministicBoxesCHSH (0000) and PRBoxesCHSH (010, 111)\n",
    "\n",
    "noisy_PRBox_generator = getNoisyPRBoxGenerator(LocalDeterministicBoxesCHSH; \n",
    "                                                α=0, γ=0, β=0, λ=0)\n",
    "noisy_PRBox_generator(c1=0.3, c2=0.1)"
   ]
  },
  {
   "cell_type": "code",
   "execution_count": 16,
   "metadata": {},
   "outputs": [
    {
     "data": {
      "text/plain": [
       "Main.nsboxes.NSBox((2, 2, 2, 2), [0.55, 0.55], [0.55, 0.55], [0.4 0.4; 0.4 0.25])"
      ]
     },
     "metadata": {},
     "output_type": "display_data"
    }
   ],
   "source": [
    "c1, c2 = 0.3, 0.1\n",
    "\n",
    "nsboxes.NSBox((2,2,2,2), Float64.(c1*nsboxes.reconstructFullJoint(CanonicalPRBox()) + c2*nsboxes.reconstructFullJoint(LocalDeterministicBoxesCHSH(α=0, γ=0, β=0, λ=0)) + (1.0-c1-c2)*nsboxes.reconstructFullJoint(UniformRandomBox((2,2,2,2)))))"
   ]
  },
  {
   "cell_type": "markdown",
   "metadata": {},
   "source": [
    "### Checking conditions / (in)equalities on correlations of NSBoxes"
   ]
  },
  {
   "cell_type": "markdown",
   "metadata": {},
   "source": [
    "Let's check whether the maximally entangled state indeed satures the Tsirelson bound on the CHSH inequality:"
   ]
  },
  {
   "cell_type": "code",
   "execution_count": 17,
   "metadata": {},
   "outputs": [
    {
     "name": "stdout",
     "output_type": "stream",
     "text": [
      "(res1, res2, res3, res4) = (2.82842712474619, 4.0, 2.0, 4.005000000000001)\n"
     ]
    },
    {
     "data": {
      "text/plain": [
       "(2.82842712474619, 4.0, 2.0, 4.005000000000001)"
      ]
     },
     "metadata": {},
     "output_type": "display_data"
    }
   ],
   "source": [
    "res1 = conditions.evaluate(CHSH_Inequality(), MaxEntangledBoxCHSH())\n",
    "res2 = conditions.evaluate(CHSH_Inequality(), CanonicalPRBox())\n",
    "res3 = conditions.evaluate(CHSH_Inequality(), LocalDeterministicBoxesCHSH(α=0, γ=0, β=1, λ=1))\n",
    "noisy_gen = getNoisyPRBoxGenerator(PRBoxesCHSH; μ=0, ν=1, σ=0)\n",
    "#res4 = evaluate(CHSH_Inequality(), noisy_gen(c1=2.40/4, c2=1.5/4))\n",
    "res4 = conditions.evaluate(Original_IC_Bound(), noisy_gen(c1=2.40/4, c2=1.5/4))\n",
    "@show res1, res2, res3, res4"
   ]
  },
  {
   "cell_type": "code",
   "execution_count": 18,
   "metadata": {},
   "outputs": [
    {
     "data": {
      "text/plain": [
       "1.0"
      ]
     },
     "metadata": {},
     "output_type": "display_data"
    }
   ],
   "source": [
    "2.5/4 + 1.5/4"
   ]
  },
  {
   "cell_type": "code",
   "execution_count": 19,
   "metadata": {},
   "outputs": [
    {
     "data": {
      "text/plain": [
       "2.8284271247461903"
      ]
     },
     "metadata": {},
     "output_type": "display_data"
    }
   ],
   "source": [
    "2*sqrt(2)"
   ]
  },
  {
   "cell_type": "code",
   "execution_count": 20,
   "metadata": {},
   "outputs": [
    {
     "name": "stdout",
     "output_type": "stream",
     "text": [
      "(res1, res2, res3, res4) = (3.1415926535897927, 6.283185307179586, NaN, 0.0)\n"
     ]
    },
    {
     "data": {
      "text/plain": [
       "(3.1415926535897927, 6.283185307179586, NaN, 0.0)"
      ]
     },
     "metadata": {},
     "output_type": "display_data"
    }
   ],
   "source": [
    "res1 = conditions.evaluate(NPA_TLM_Criterion(), MaxEntangledBoxCHSH())\n",
    "res2 = conditions.evaluate(NPA_TLM_Criterion(), CanonicalPRBox())\n",
    "res3 = conditions.evaluate(NPA_TLM_Criterion(), LocalDeterministicBoxesCHSH(α=0, γ=0, β=0, λ=0))\n",
    "res4 = conditions.evaluate(NPA_TLM_Criterion(), UniformRandomBox((2,2,2,2)))\n",
    "@show res1, res2, res3, res4"
   ]
  },
  {
   "cell_type": "code",
   "execution_count": 21,
   "metadata": {},
   "outputs": [
    {
     "data": {
      "text/plain": [
       "true"
      ]
     },
     "metadata": {},
     "output_type": "display_data"
    }
   ],
   "source": [
    "conditions.check(CHSH_Inequality(), MaxEntangledBoxCHSH(), :Q)\n",
    "#conditions.check(CHSH_Inequality(), CanonicalPRBox(), :Q)\n",
    "#conditions.check(CHSH_Inequality(), LocalDeterministicBoxesCHSH(α=0, γ=0, β=1, λ=1), :Q)"
   ]
  },
  {
   "cell_type": "code",
   "execution_count": 22,
   "metadata": {},
   "outputs": [],
   "source": []
  },
  {
   "cell_type": "code",
   "execution_count": 23,
   "metadata": {},
   "outputs": [
    {
     "data": {
      "text/plain": [
       "Dict{Symbol, Int64} with 2 entries:\n",
       "  :Q  => 4\n",
       "  :NS => 8"
      ]
     },
     "metadata": {},
     "output_type": "display_data"
    }
   ],
   "source": [
    "Uffink_Bipartite_2222_Inequality().setBounds"
   ]
  },
  {
   "cell_type": "markdown",
   "metadata": {},
   "source": [
    "Some pre-defined conditions on correlations:"
   ]
  },
  {
   "cell_type": "code",
   "execution_count": 24,
   "metadata": {},
   "outputs": [
    {
     "data": {
      "text/plain": [
       "Main.conditions.GeneralizedCorrelationCondition((2, 2, 2, 2), var\"#S_Uffink_Bipartite_2222#20\"(), <=, missing, Dict(:Q => 4, :NS => 8))"
      ]
     },
     "metadata": {},
     "output_type": "display_data"
    }
   ],
   "source": [
    "CHSH_Inequality() #The (canonical) CHSH inequality; Variants from term signs s1, s2, s3, s4 ∈ {+1, -1}\n",
    "Uffink_Bipartite_2222_Inequality()\n",
    "#Almost_Quantum_Condition() #Only via SDP\n",
    "#NPA_Q1_Bipartite_Condition() #Only via SDP\n"
   ]
  },
  {
   "cell_type": "markdown",
   "metadata": {},
   "source": [
    "#### Experiment 1 (Equiv. to original IC paper)"
   ]
  },
  {
   "cell_type": "code",
   "execution_count": 25,
   "metadata": {},
   "outputs": [
    {
     "data": {
      "text/plain": [
       "exp1 (generic function with 1 method)"
      ]
     },
     "metadata": {},
     "output_type": "display_data"
    }
   ],
   "source": [
    "\n",
    "function exp1(noisy_PRBox_generatorm, first_chsh, second_chsh)\n",
    "\n",
    "    boundary_params = Dict()\n",
    "    CHSH_CHSH2_boundary_vals = Dict()\n",
    "\n",
    "    eval_conditions = Dict(\"NPA_TLM\" => NPA_TLM_Criterion(), \"IC Orig.\" => Original_IC_Bound())\n",
    "\n",
    "    for c_condition_key in keys(eval_conditions)\n",
    "        boundary_params[c_condition_key] = []\n",
    "        CHSH_CHSH2_boundary_vals[c_condition_key] = []\n",
    "\n",
    "        c2_range::Vector{Union{Float64, Missing}} = collect(0.0:0.01:1.0)\n",
    "        c1_stepsize = 1/3000\n",
    "        c1_boundary::Vector{Union{Float64, Missing}} = []\n",
    "        \n",
    "        for c2 in c2_range\n",
    "            \n",
    "            boundary_c1_val = 0.0  # Find largest c1 such that the box is still in Q\n",
    "            made_steps = 1 #Keep track of floating point precision on recurrent subtraction\n",
    "\n",
    "            #First check whether we are outside Q already\n",
    "            if !conditions.check(eval_conditions[c_condition_key], noisy_PRBox_generator(c1=boundary_c1_val, c2=c2), :Q)\n",
    "                boundary_c1_val = missing\n",
    "            #Next, check whether we are inside, but nevertheless already very very close to Q's boundary (essentially on it), otherwise start search for the boundary\n",
    "            elseif abs(conditions.evaluate(eval_conditions[c_condition_key], noisy_PRBox_generator(c1=boundary_c1_val, c2=c2)) - eval_conditions[c_condition_key].setBounds[:Q]) > 10e3*eps() \n",
    "                while conditions.check(eval_conditions[c_condition_key], noisy_PRBox_generator(c1=boundary_c1_val, c2=c2), :Q)\n",
    "\n",
    "                    boundary_c1_val += c1_stepsize\n",
    "                    made_steps += 1\n",
    "                    if boundary_c1_val > 1.0 - c2 + 10*eps() #Can't go beyond 1.0 - c2 = no valid convex mixture\n",
    "                        #println(conditions.evaluate(CHSH_Inequality(s1=1, s2=-1, s3=1, s4=1), noisy_PRBox_generator(c1=boundary_c1_val, c2=c2)), \" \",evaluate(CHSH_Inequality(), noisy_PRBox_generator(c1=boundary_c1_val, c2=c2)))\n",
    "                        \n",
    "                        boundary_c1_val -= c1_stepsize #Go back one step\n",
    "                        \n",
    "                        #Check whether we, nevertheless, are at the boundary\n",
    "                        \"\"\"Uncomment when want to label positivity boundaries as missing\n",
    "                        if abs(evaluate(eval_conditions[c_condition_key], noisy_PRBox_generator(c1=boundary_c1_val, c2=c2)) - eval_conditions[c_condition_key].setBounds[:Q]) > 10e3*eps() \n",
    "                            #@show \"Here\", boundary_c1_val, c2\n",
    "                            #@show evaluate(eval_conditions[c_condition_key], noisy_PRBox_generator(c1=boundary_c1_val, c2=c2)), eval_conditions[c_condition_key].setBounds[:Q]\n",
    "                            boundary_c1_val = missing\n",
    "                        end\n",
    "                        \"\"\"\n",
    "\n",
    "                        break\n",
    "                    end\n",
    "                end\n",
    "            end\n",
    "            push!(boundary_params[c_condition_key], (boundary_c1_val, c2))\n",
    "            \n",
    "            if ismissing(boundary_c1_val)\n",
    "                push!(CHSH_CHSH2_boundary_vals[c_condition_key], (missing, missing))\n",
    "            else\n",
    "                CHSH_val = conditions.evaluate(first_chsh, noisy_PRBox_generator(c1=boundary_c1_val, c2=c2))\n",
    "                CHSH2_val = conditions.evaluate(second_chsh, noisy_PRBox_generator(c1=boundary_c1_val, c2=c2))\n",
    "                push!(CHSH_CHSH2_boundary_vals[c_condition_key], (CHSH_val, CHSH2_val))\n",
    "            end\n",
    "        end\n",
    "\n",
    "    end\n",
    "    return eval_conditions, boundary_params, CHSH_CHSH2_boundary_vals\n",
    "end\n",
    "\n",
    "\n"
   ]
  },
  {
   "cell_type": "code",
   "execution_count": 38,
   "metadata": {},
   "outputs": [],
   "source": [
    "# Plot CHSH2 vs. CHSH values for the boundary\n",
    "using GLMakie\n",
    "\n",
    "noisy_PRBox_generator = getNoisyPRBoxGenerator(PRBoxesCHSH; \n",
    "                                                μ=0, ν=1, σ=0)\n",
    "\n",
    "eval_conditions,boundary_params, CHSH_CHSH2_boundary_vals = exp1(noisy_PRBox_generator, \n",
    "                                                CHSH_Inequality(),\n",
    "                                                CHSH_Inequality(s1=1, s2=-1, s3=1, s4=1),\n",
    "                                                )\n",
    "                                                \n",
    "cmap = [:deepskyblue3, :orangered, :gold, \"#e82051\"]\n",
    "\n",
    "with_theme(palette = (; patchcolor = cgrad(cmap, alpha=0.45))) do\n",
    "    fig1 = lines(collect(0.0:0.01:2.0), 4.0 .- collect(0.0:0.01:2.0); label = \"N.S.\", color=:black,\n",
    "    axis = (; xlabel = \"CHSH2\", ylabel = \"CHSH\", title =\"Title\"),\n",
    "    figure = (; size = (800,600), fontsize = 22))\n",
    "\n",
    "    for condition_key in keys(eval_conditions)\n",
    "        tlm_chsh, tlm_chsh2 = map(x -> x[1], CHSH_CHSH2_boundary_vals[condition_key]), map(x -> x[2], CHSH_CHSH2_boundary_vals[condition_key])\n",
    "        lines!(tlm_chsh2, tlm_chsh; label = condition_key) #, color = :green\n",
    "    end\n",
    "    \n",
    "    limits!(-0.001, 2.001, 2.001, 4.001)\n",
    "    axislegend(; position = :ct, framecolor = :orange)\n",
    "\n",
    "    #save(\"./assets/CHSH_vs_CHSH2_PR010.png\", fig1)\n",
    "    save(plotsdir(\"NSSliceBounds\", \"CHSH_vs_CHSH2_PR010.png\"), fig1)\n",
    "    fig1\n",
    "end\n",
    "\n",
    "\n"
   ]
  },
  {
   "cell_type": "code",
   "execution_count": 39,
   "metadata": {},
   "outputs": [],
   "source": [
    "\n",
    "noisy_PRBox_generator = getNoisyPRBoxGenerator(PRBoxesCHSH; \n",
    "                                                μ=1, ν=1, σ=0)\n",
    "\n",
    "\n",
    "eval_conditions,boundary_params, CHSH_CHSH4_boundary_vals = exp1(noisy_PRBox_generator, \n",
    "                                                CHSH_Inequality(),\n",
    "                                                CHSH_Inequality(s1=-1, s2=1, s3=1, s4=1),\n",
    "                                                )\n",
    "\n",
    "cmap = [:deepskyblue3, :orangered, :gold, \"#e82051\"]\n",
    "\n",
    "with_theme(palette = (; patchcolor = cgrad(cmap, alpha=0.45))) do\n",
    "    fig2 = lines(collect(0.0:0.01:2.0), 4.0 .- collect(0.0:0.01:2.0); label = \"N.S.\", color=:black,\n",
    "    axis = (; xlabel = \"CHSH4\", ylabel = \"CHSH\", title =\"Title\"),\n",
    "    figure = (; size = (800,600), fontsize = 22))\n",
    "\n",
    "    for condition_key in keys(eval_conditions)\n",
    "        tlm_chsh, tlm_chsh4 = map(x -> x[1], CHSH_CHSH4_boundary_vals[condition_key]), map(x -> x[2], CHSH_CHSH4_boundary_vals[condition_key])\n",
    "        lines!(tlm_chsh4, tlm_chsh; label = condition_key) #, color = :green\n",
    "    end\n",
    "    \n",
    "    limits!(-0.001, 2.001, 2.001, 4.001)\n",
    "    axislegend(; position = :ct, framecolor = :orange)\n",
    "\n",
    "    save(plotsdir(\"NSSliceBounds\", \"CHSH_vs_CHSH4_PR110.png\"), fig2)\n",
    "    fig2\n",
    "end\n"
   ]
  },
  {
   "cell_type": "code",
   "execution_count": 40,
   "metadata": {},
   "outputs": [],
   "source": [
    "noisy_PRBox_generator = getNoisyPRBoxGenerator(LocalDeterministicBoxesCHSH; \n",
    "                                                α=0, γ=0, β=0, λ=0)\n",
    "\n",
    "eval_conditions,boundary_params, CHSH_CHSH2_boundary_vals = exp1(noisy_PRBox_generator,\n",
    "                                                CHSH_Inequality(),\n",
    "                                                CHSH_Inequality(s1=1, s2=-1, s3=1, s4=1),\n",
    "                                                )\n",
    "\n",
    "cmap = [:deepskyblue3, :orangered, :gold, \"#e82051\"]\n",
    "\n",
    "\n",
    "with_theme(palette = (; patchcolor = cgrad(cmap, alpha=0.45))) do\n",
    "    fig3 = lines(collect(0.0:0.01:2.0), 4.0 .- collect(0.0:0.01:2.0); label = \"N.S.\", color=:black,\n",
    "    axis = (; xlabel = \"CHSH2\", ylabel = \"CHSH\", title =\"Title\"),\n",
    "    figure = (; size = (800,600), fontsize = 22))\n",
    "\n",
    "    for condition_key in keys(eval_conditions)\n",
    "        tlm_chsh, tlm_chsh2 = map(x -> x[1], CHSH_CHSH2_boundary_vals[condition_key]), map(x -> x[2], CHSH_CHSH2_boundary_vals[condition_key])\n",
    "        lines!(tlm_chsh2, tlm_chsh; label = condition_key) #, color = :green\n",
    "    end\n",
    "    \n",
    "    limits!(-0.001, 2.001, 2.001, 4.001)\n",
    "    axislegend(; position = :ct, framecolor = :orange)\n",
    "\n",
    "    save(plotsdir(\"NSSliceBounds\", \"CHSH_vs_CHSH2_LD0000.png\"), fig3)\n",
    "    fig3\n",
    "end"
   ]
  },
  {
   "cell_type": "markdown",
   "metadata": {},
   "source": [
    "#### Experiment 2 (Equiv. to recent IC paper)"
   ]
  },
  {
   "cell_type": "code",
   "execution_count": 41,
   "metadata": {},
   "outputs": [
    {
     "data": {
      "text/plain": [
       "4.929999999999999"
      ]
     },
     "metadata": {},
     "output_type": "display_data"
    }
   ],
   "source": [
    "function double_noisy_PRBox(;q1, q2)\n",
    "    @assert 0.0 - 10*eps() <= q1 <= 1.0 + 10*eps() \n",
    "    @assert 0.0 - 10*eps() <= q2 <= 1.0 + 10*eps()\n",
    "    @assert q1 + q2 <= 1.0 + 100*eps()\n",
    "    @show q1, q2, 1.0-q1-q2\n",
    "    return (1.0-q1-q2)*CanonicalPRBox() + q1*LocalDeterministicBoxesCHSH(α=1, γ=0, β=0, λ=0) + q2*LocalDeterministicBoxesCHSH(α=1, γ=0, β=1, λ=0)\n",
    "    #return c2*extremal_noise_generator(;extremal_noise_params...) + (1-c1-c2)*UniformRandomBox(scenario)\n",
    "end\n",
    "\n",
    "conditions.evaluate(Original_IC_Bound(), double_noisy_PRBox(q1=0.3, q2=0.05))"
   ]
  },
  {
   "cell_type": "code",
   "execution_count": 42,
   "metadata": {},
   "outputs": [
    {
     "data": {
      "text/plain": [
       "exp2 (generic function with 1 method)"
      ]
     },
     "metadata": {},
     "output_type": "display_data"
    }
   ],
   "source": [
    "\n",
    "\n",
    "\n",
    "function exp2(noisy_PRBox_generator)\n",
    "\n",
    "    boundary_params = Dict()\n",
    "\n",
    "    eval_conditions = Dict(\"Uffink\" => Uffink_Bipartite_2222_Inequality() ,\"Pawlowski et al., 2009\" => Original_IC_Bound(), \"Jain et al., 2023\" => Correlated_Inputs_IC_Bound(ϵ=0.99))\n",
    "\n",
    "    for c_condition_key in keys(eval_conditions)\n",
    "        boundary_params[c_condition_key] = []\n",
    "\n",
    "        q1_range::Vector{Union{Float64, Missing}} = collect(0.0:0.001:1.0)\n",
    "        q2_stepsize = 1/4000\n",
    "        q2_boundary::Vector{Union{Float64, Missing}} = []\n",
    "        \n",
    "        for q1 in q1_range\n",
    "            \n",
    "            boundary_q2_val = 0.0  # Find largest q2 such that the box is still in Q\n",
    "\n",
    "            #First check whether we are inside Q already\n",
    "            if conditions.check(eval_conditions[c_condition_key], noisy_PRBox_generator(q2=boundary_q2_val, q1=q1), :Q)\n",
    "                boundary_q2_val = missing\n",
    "            #Next, check whether we are outside, but nevertheless already very very close to Q's boundary (essentially on it), otherwise start search for the boundary\n",
    "            elseif abs(conditions.evaluate(eval_conditions[c_condition_key], noisy_PRBox_generator(q2=boundary_q2_val, q1=q1)) - eval_conditions[c_condition_key].setBounds[:Q]) > 10e3*eps() \n",
    "                while !conditions.check(eval_conditions[c_condition_key], noisy_PRBox_generator(q2=boundary_q2_val, q1=q1), :Q)\n",
    "\n",
    "                    boundary_q2_val += q2_stepsize\n",
    "                    \n",
    "                    if boundary_q2_val > 1.0 - q1 + 10*eps() #Can't go beyond 1.0 - q1 = no valid convex mixture\n",
    "                        \n",
    "                        boundary_q2_val -= q2_stepsize #Go back one step\n",
    "\n",
    "                        break\n",
    "                    end\n",
    "                end\n",
    "            end\n",
    "            push!(boundary_params[c_condition_key], (q1,boundary_q2_val))\n",
    "            \n",
    "        end\n",
    "\n",
    "    end\n",
    "    return eval_conditions, boundary_params\n",
    "end\n",
    "\n"
   ]
  },
  {
   "cell_type": "code",
   "execution_count": 46,
   "metadata": {},
   "outputs": [],
   "source": [
    "using GLMakie\n",
    "\n",
    "eval_conditions, boundary_params = exp2(double_noisy_PRBox)\n",
    "@show boundary_params\n",
    "cmap = [:gold, :deepskyblue3, :orangered, \"#e82051\"]\n",
    "\n",
    "with_theme(palette = (; patchcolor = cgrad(cmap, alpha=0.45))) do\n",
    "\n",
    "    fig = Figure(; size = (800,600), fontsize = 22)\n",
    "    ax = Axis(fig[1, 1]; title = \" \", xgridstyle = :dash, ygridstyle = :dash, xlabel = \"q1\", ylabel = \"q2\")\n",
    "        \n",
    "    for condition_key in keys(eval_conditions)\n",
    "        q1_vals, q2_vals = map(q -> q[1], filter(q -> !ismissing(q[2]), boundary_params[condition_key])), map(q -> q[2], filter(q -> !ismissing(q[2]), boundary_params[condition_key]))\n",
    "        #lines!(q1_vals, q2_vals; label = condition_key) #, color = :green\n",
    "        \n",
    "        band!(q1_vals, q2_vals, 1 .- q1_vals; label = condition_key)\n",
    "    end\n",
    "    \n",
    "    #translate!(lineplot, 0, 0, 2) # move line to foreground\n",
    "    limits!(-0.001, 1.001, 0.001, 0.301)\n",
    "    axislegend(; position = :ct, framecolor = :orange)\n",
    "    save(plotsdir(\"NSSliceBounds\", \"q1q2_space.png\"), fig)\n",
    "    fig\n",
    "end"
   ]
  },
  {
   "cell_type": "code",
   "execution_count": 44,
   "metadata": {},
   "outputs": [
    {
     "data": {
      "text/plain": [
       "exp1star (generic function with 1 method)"
      ]
     },
     "metadata": {},
     "output_type": "display_data"
    }
   ],
   "source": [
    "\n",
    "function exp1star(noisy_PRBox_generatorm, first_chsh, second_chsh)\n",
    "\n",
    "    boundary_params = Dict()\n",
    "    CHSH_CHSH2_boundary_vals = Dict()\n",
    "\n",
    "    eval_conditions = Dict(\"NPA_TLM\" => NPA_TLM_Criterion(), \"IC Orig.\" => Original_IC_Bound(), \"Jain et al., 2023\" => Correlated_Inputs_IC_Bound(ϵ=0.99))\n",
    "\n",
    "    for c_condition_key in keys(eval_conditions)\n",
    "        boundary_params[c_condition_key] = []\n",
    "        CHSH_CHSH2_boundary_vals[c_condition_key] = []\n",
    "\n",
    "        c2_range::Vector{Union{Float64, Missing}} = collect(0.0:0.01:1.0)\n",
    "        c1_stepsize = 1/3000\n",
    "        c1_boundary::Vector{Union{Float64, Missing}} = []\n",
    "        \n",
    "        for c2 in c2_range\n",
    "            \n",
    "            boundary_c1_val = 0.0  # Find largest c1 such that the box is still in Q\n",
    "            made_steps = 1 #Keep track of floating point precision on recurrent subtraction\n",
    "\n",
    "            #First check whether we are outside Q already\n",
    "            if !conditions.check(eval_conditions[c_condition_key], noisy_PRBox_generator(c1=boundary_c1_val, c2=c2), :Q)\n",
    "                boundary_c1_val = missing\n",
    "            #Next, check whether we are inside, but nevertheless already very very close to Q's boundary (essentially on it), otherwise start search for the boundary\n",
    "            elseif abs(conditions.evaluate(eval_conditions[c_condition_key], noisy_PRBox_generator(c1=boundary_c1_val, c2=c2)) - eval_conditions[c_condition_key].setBounds[:Q]) > 10e3*eps() \n",
    "                while conditions.check(eval_conditions[c_condition_key], noisy_PRBox_generator(c1=boundary_c1_val, c2=c2), :Q)\n",
    "\n",
    "                    boundary_c1_val += c1_stepsize\n",
    "                    made_steps += 1\n",
    "                    if boundary_c1_val > 1.0 - c2 + 10*eps() #Can't go beyond 1.0 - c2 = no valid convex mixture\n",
    "                        #println(conditions.evaluate(CHSH_Inequality(s1=1, s2=-1, s3=1, s4=1), noisy_PRBox_generator(c1=boundary_c1_val, c2=c2)), \" \",evaluate(CHSH_Inequality(), noisy_PRBox_generator(c1=boundary_c1_val, c2=c2)))\n",
    "                        \n",
    "                        boundary_c1_val -= c1_stepsize #Go back one step\n",
    "                        \n",
    "                        #Check whether we, nevertheless, are at the boundary\n",
    "                        \"\"\"Uncomment when want to label positivity boundaries as missing\n",
    "                        if abs(conditions.evaluate(eval_conditions[c_condition_key], noisy_PRBox_generator(c1=boundary_c1_val, c2=c2)) - eval_conditions[c_condition_key].setBounds[:Q]) > 10e3*eps() \n",
    "                            #@show \"Here\", boundary_c1_val, c2\n",
    "                            #@show conditions.evaluate(eval_conditions[c_condition_key], noisy_PRBox_generator(c1=boundary_c1_val, c2=c2)), eval_conditions[c_condition_key].setBounds[:Q]\n",
    "                            boundary_c1_val = missing\n",
    "                        end\n",
    "                        \"\"\"\n",
    "\n",
    "                        break\n",
    "                    end\n",
    "                end\n",
    "            end\n",
    "            push!(boundary_params[c_condition_key], (boundary_c1_val, c2))\n",
    "            \n",
    "            if ismissing(boundary_c1_val)\n",
    "                push!(CHSH_CHSH2_boundary_vals[c_condition_key], (missing, missing))\n",
    "            else\n",
    "                CHSH_val = conditions.evaluate(first_chsh, noisy_PRBox_generator(c1=boundary_c1_val, c2=c2))\n",
    "                CHSH2_val = conditions.evaluate(second_chsh, noisy_PRBox_generator(c1=boundary_c1_val, c2=c2))\n",
    "                push!(CHSH_CHSH2_boundary_vals[c_condition_key], (CHSH_val, CHSH2_val))\n",
    "            end\n",
    "        end\n",
    "\n",
    "    end\n",
    "    return eval_conditions, boundary_params, CHSH_CHSH2_boundary_vals\n",
    "end\n",
    "\n",
    "\n"
   ]
  },
  {
   "cell_type": "code",
   "execution_count": 45,
   "metadata": {},
   "outputs": [],
   "source": [
    "# Plot CHSH2 vs. CHSH values for the boundary\n",
    "using GLMakie\n",
    "\n",
    "#noisy_PRBox_generator = getNoisyPRBoxGenerator(PRBoxesCHSH; \n",
    "#                                                μ=1, ν=1, σ=0)\n",
    "noisy_PRBox_generator = getNoisyPRBoxGenerator(LocalDeterministicBoxesCHSH; \n",
    "                                                α=0, γ=0, β=0, λ=0)\n",
    "\n",
    "eval_conditions,boundary_params, CHSH_CHSH2_boundary_vals = exp1star(noisy_PRBox_generator, \n",
    "                                                CHSH_Inequality(),\n",
    "                                                CHSH_Inequality(s1=1, s2=-1, s3=1, s4=1),\n",
    "                                                )\n",
    "                                                \n",
    "cmap = [:deepskyblue3, :orangered, :gold, \"#e82051\"]\n",
    "\n",
    "with_theme(palette = (; patchcolor = cgrad(cmap, alpha=0.45))) do\n",
    "    fig1 = lines(collect(0.0:0.01:2.0), 4.0 .- collect(0.0:0.01:2.0); label = \"N.S.\", color=:black,\n",
    "    axis = (; xlabel = \"CHSH2\", ylabel = \"CHSH\", title =\"Title\"),\n",
    "    figure = (; size = (800,600), fontsize = 22))\n",
    "\n",
    "    for condition_key in keys(eval_conditions)\n",
    "        tlm_chsh, tlm_chsh2 = map(x -> x[1], CHSH_CHSH2_boundary_vals[condition_key]), map(x -> x[2], CHSH_CHSH2_boundary_vals[condition_key])\n",
    "        lines!(tlm_chsh2, tlm_chsh; label = condition_key) #, color = :green\n",
    "    end\n",
    "    \n",
    "    limits!(-0.001, 2.001, 2.001, 4.001)\n",
    "    axislegend(; position = :ct, framecolor = :orange)\n",
    "\n",
    "    #save(\"./assets/CHSH_vs_CHSH2_PR010.png\", fig1)\n",
    "    fig1\n",
    "end\n",
    "\n",
    "\n"
   ]
  },
  {
   "cell_type": "code",
   "execution_count": 35,
   "metadata": {},
   "outputs": [],
   "source": []
  }
 ],
 "metadata": {
  "kernelspec": {
   "display_name": "Julia 1.10.2",
   "language": "julia",
   "name": "julia-1.10"
  },
  "language_info": {
   "file_extension": ".jl",
   "mimetype": "application/julia",
   "name": "julia",
   "version": "1.10.2"
  }
 },
 "nbformat": 4,
 "nbformat_minor": 2
}
